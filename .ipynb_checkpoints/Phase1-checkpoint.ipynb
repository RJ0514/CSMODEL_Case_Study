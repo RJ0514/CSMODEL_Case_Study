{
 "cells": [
  {
   "cell_type": "markdown",
   "id": "4aa3296d-ceca-412a-805f-f8608239da04",
   "metadata": {},
   "source": [
    "# Analyzing Netflix Dataset (Phase 1)\n",
    "In this notebook, we will explore the list of shows and their features currently available for streaming on Netflix USA. This data was acquired in July 2022 containing data available in the United States."
   ]
  },
  {
   "cell_type": "markdown",
   "id": "04304aae-1e61-41df-a9cb-1dbcfe587be5",
   "metadata": {},
   "source": [
    "### Collection Process \n",
    "The dataset was a result of Web Scraping techniques deployed using AJAX and GraphQL queries. The data returns and is recorded as a JSON file. \n"
   ]
  },
  {
   "cell_type": "markdown",
   "id": "dcea7d49-8b4d-48f4-b55b-db75a33a5e55",
   "metadata": {},
   "source": [
    "While production for these titles was present in other countries, the **scope** of the dataset is movies in **English** and are found in the **Netflix movie list in the US**. This limitation may have implications and would limit our analysis to the streaming habits of people in the United States."
   ]
  },
  {
   "cell_type": "markdown",
   "id": "9f34d4af-d989-49cb-920f-a6ab6e70a303",
   "metadata": {},
   "source": [
    "### Data Structure"
   ]
  },
  {
   "cell_type": "markdown",
   "id": "cf6cd1a0-0adb-430e-91f2-50cfd06430a4",
   "metadata": {},
   "source": [
    "The dataset is divided into two files, both used to provide context and one used to summarize how the movie was perceived by the US audience. "
   ]
  },
  {
   "cell_type": "markdown",
   "id": "8c24b02a-863f-4780-92fb-1b723ec27aad",
   "metadata": {},
   "source": [
    "credits.csv contains 77800 rows of information on Actors and Directors of Netflix titles. While titles.csv has 5850 unique titles: each observation describes a movie and its features. \\\n",
    "A detailed list of variables is included in the next section."
   ]
  },
  {
   "cell_type": "markdown",
   "id": "44777728-7410-41d5-b484-eaec227e666d",
   "metadata": {},
   "source": [
    "### Dataset Description"
   ]
  },
  {
   "cell_type": "markdown",
   "id": "07e2378a-2c8b-4c9e-bf45-7b9e58d35b0b",
   "metadata": {},
   "source": [
    "### Tabularized List of Variables"
   ]
  },
  {
   "cell_type": "markdown",
   "id": "02619e22-337b-4d69-99bc-ab8880eb559b",
   "metadata": {},
   "source": [
    "| [titles.csv] **Variable Name** | **Description**                                                              |\n",
    "|--------------------------------|------------------------------------------------------------------------------|\n",
    "| id:                            | The title ID on JustWatch. This is similar to a unique ID                    |\n",
    "| title:                         | The name of the show/movie                                                   |\n",
    "| show_type:                     | If it is a TV show or movie.                                                 |\n",
    "| release_year:                  | The release year                                                             |\n",
    "| age_certification:             | The age certification.                                                       |\n",
    "| runtime:                       | The length per episode if it is a show or the full runtime if it is a movie. |\n",
    "| genres:                        | Genres that describe the show/movie                                          |\n",
    "| production_countries:          | A list of countries that produced the show/movie                             |\n",
    "| seasons:                       | Number of seasons if it's a show                                             |\n",
    "| imdb_id:                       | The title ID on IMDB.                                                        |\n",
    "| imdb_score:                    | Score on IMDB.                                                               |\n",
    "| imdb_votes:                    | Votes on IMDB.                                                               |\n",
    "| tmdb_popularity:               | Popularity on TMDB.                                                          |\n",
    "| tmdb_score:                    | Score on TMDB.                                                               |"
   ]
  },
  {
   "cell_type": "markdown",
   "id": "0a07aa9e-ef9d-47c3-b097-e6bdae958e30",
   "metadata": {},
   "source": [
    "| **[titles.csv] Variable** | **Description**               |\n",
    "|---------------------------|-------------------------------|\n",
    "| person_ID:                | The person ID on JustWatch.   |\n",
    "| id:                       | The title ID on JustWatch.    |\n",
    "| name:                     | The actor or director's name. |\n",
    "| character_name:           | The character name.           |\n",
    "| role:                     | ACTOR or DIRECTOR.            |"
   ]
  },
  {
   "cell_type": "markdown",
   "id": "5e6ce9d5-c9d1-4a7a-8005-c4b7b075fc6f",
   "metadata": {},
   "source": [
    "## I. Exploratory Data Analysis"
   ]
  },
  {
   "cell_type": "markdown",
   "id": "e32838f6-d808-464f-854d-9634e68e4550",
   "metadata": {},
   "source": [
    "### Analysis Questions"
   ]
  },
  {
   "cell_type": "code",
   "execution_count": 1,
   "id": "026a3fb2-707d-456b-877c-13c3daba6c3c",
   "metadata": {},
   "outputs": [],
   "source": [
    "import numpy as np\n",
    "import pandas as pd\n",
    "import matplotlib.pyplot as plt\n",
    "import os\n",
    "import sys \n",
    "##sys.path.append(\"RJ\\Desktop\\CSMODEL Jupyter\\Project\")\n",
    "##os.chdir(r'C:\\Users\\RJ\\Desktop\\CSMODEL Jupyter\\Project')\n",
    "%load_ext autoreload\n",
    "%autoreload 2\n",
    "\n",
    "##from rule_miner import RuleMiner"
   ]
  },
  {
   "cell_type": "code",
   "execution_count": 2,
   "id": "2528de11-1b9a-410e-8665-60b07bbb1664",
   "metadata": {},
   "outputs": [],
   "source": [
    "nx_df = pd.read_csv(\"titles.csv\")"
   ]
  },
  {
   "cell_type": "code",
   "execution_count": 3,
   "id": "8efdea71-bdd5-49bc-9a77-58a2f149c1b3",
   "metadata": {},
   "outputs": [
    {
     "data": {
      "text/plain": [
       "Index(['id', 'title', 'type', 'description', 'release_year',\n",
       "       'age_certification', 'runtime', 'genres', 'production_countries',\n",
       "       'seasons', 'imdb_id', 'imdb_score', 'imdb_votes', 'tmdb_popularity',\n",
       "       'tmdb_score'],\n",
       "      dtype='object')"
      ]
     },
     "execution_count": 3,
     "metadata": {},
     "output_type": "execute_result"
    }
   ],
   "source": [
    "nx_df.columns"
   ]
  },
  {
   "cell_type": "code",
   "execution_count": 4,
   "id": "d8672957-484a-4c11-98de-abd65ccc9b6c",
   "metadata": {},
   "outputs": [
    {
     "data": {
      "text/plain": [
       "TV-MA    883\n",
       "R        556\n",
       "TV-14    474\n",
       "PG-13    451\n",
       "PG       233\n",
       "TV-PG    188\n",
       "G        124\n",
       "TV-Y7    120\n",
       "TV-Y     107\n",
       "TV-G      79\n",
       "NC-17     16\n",
       "Name: age_certification, dtype: int64"
      ]
     },
     "execution_count": 4,
     "metadata": {},
     "output_type": "execute_result"
    }
   ],
   "source": [
    "nx_df['age_certification'].value_counts()"
   ]
  },
  {
   "cell_type": "markdown",
   "id": "71cf6c9b-02be-4de0-997a-0361341e8964",
   "metadata": {},
   "source": [
    "nx_df[nx_df['production_countries'] == '[]'].sort_values(by = 'imdb_score', ascending = False)"
   ]
  },
  {
   "cell_type": "markdown",
   "id": "bc755abe-5d88-460a-96b3-205233058ebf",
   "metadata": {},
   "source": []
  },
  {
   "cell_type": "markdown",
   "id": "c76f1b81-3f11-4e04-b75e-2a4406e56dd5",
   "metadata": {},
   "source": [
    "### 1. On Types of Content"
   ]
  },
  {
   "cell_type": "markdown",
   "id": "00eb4d49-4497-4ae8-bb55-0044aa57db29",
   "metadata": {},
   "source": [
    "#### a. Identify the Yearly increase of Content per Genre"
   ]
  },
  {
   "cell_type": "markdown",
   "id": "a405078f-b65c-41b8-8baf-dfce7e24ed27",
   "metadata": {},
   "source": [
    "Comparison / Distribution of Content Type"
   ]
  },
  {
   "cell_type": "code",
   "execution_count": 5,
   "id": "400700f0-b9ac-4ccd-912d-109b57f2d9a5",
   "metadata": {},
   "outputs": [
    {
     "name": "stdout",
     "output_type": "stream",
     "text": [
      "['SHOW' 'MOVIE']\n"
     ]
    },
    {
     "data": {
      "text/plain": [
       "MOVIE    3744\n",
       "SHOW     2106\n",
       "Name: type, dtype: int64"
      ]
     },
     "execution_count": 5,
     "metadata": {},
     "output_type": "execute_result"
    }
   ],
   "source": [
    "print(nx_df['type'].unique())\n",
    "type_frequency = nx_df['type'].value_counts()\n",
    "type_frequency"
   ]
  },
  {
   "cell_type": "code",
   "execution_count": 6,
   "id": "f5505d58-1852-4d60-92d1-b0bef3cce243",
   "metadata": {},
   "outputs": [
    {
     "data": {
      "text/plain": [
       "Text(0.5, 0.98, 'Increase in Movies')"
      ]
     },
     "execution_count": 6,
     "metadata": {},
     "output_type": "execute_result"
    },
    {
     "data": {
      "image/png": "[encoded data removed]",
      "text/plain": [
       "<Figure size 432x288 with 1 Axes>"
      ]
     },
     "metadata": {
      "needs_background": "light"
     },
     "output_type": "display_data"
    }
   ],
   "source": [
    "# To check the increase in the number of Movies for each year:\n",
    "list_year = sorted(nx_df['release_year'].unique())\n",
    "popular_type = []\n",
    "\n",
    "#Get the count for each year, append to list\n",
    "#[[Year, value]]\n",
    "for year in list_year:\n",
    "    type_count = nx_df.loc[(nx_df['release_year'] == year)]['type'].value_counts()\n",
    "    popular_type.append([year,type_count[0]])\n",
    "\n",
    "popular_type = pd.DataFrame(popular_type, columns=['Year','Count'])\n",
    "\n",
    "#Display list with a bar graph.\n",
    "plt.bar(popular_type['Year'],popular_type['Count'])\n",
    "plt.suptitle('Increase in Movies')"
   ]
  },
  {
   "cell_type": "markdown",
   "id": "38285fd6-4b61-4b90-9128-c2e0e926fc8f",
   "metadata": {},
   "source": [
    "To check for the increase in the number of works **(MOVIES & SERIES)** for each year:"
   ]
  },
  {
   "cell_type": "code",
   "execution_count": 7,
   "id": "b0753c28-d583-4c19-96fa-63efbceb5dc0",
   "metadata": {},
   "outputs": [
    {
     "data": {
      "text/plain": [
       "Text(0.5, 0.98, 'Increase in Works')"
      ]
     },
     "execution_count": 7,
     "metadata": {},
     "output_type": "execute_result"
    },
    {
     "data": {
      "image/png": "[encoded data removed]",
      "text/plain": [
       "<Figure size 432x288 with 1 Axes>"
      ]
     },
     "metadata": {
      "needs_background": "light"
     },
     "output_type": "display_data"
    }
   ],
   "source": [
    "work_count = []\n",
    "\n",
    "#Get the count for each year, append to list\n",
    "#[[Year, value]]\n",
    "for year in list_year:\n",
    "    count = nx_df.loc[(nx_df['release_year'] == year)]['type'].value_counts().sum()\n",
    "    work_count.append([year,count])\n",
    "\n",
    "work_count = pd.DataFrame(work_count, columns=['Year','Count'])\n",
    "\n",
    "#Display list with a bar graph.\n",
    "plt.plot(work_count['Year'],work_count['Count'])\n",
    "plt.suptitle('Increase in Works')"
   ]
  },
  {
   "cell_type": "markdown",
   "id": "e9bd59d0-e81b-49fe-bace-57076c1133af",
   "metadata": {},
   "source": [
    "**Notice:** Same shape as the previous one. however, the maximum height has increased from 500 to 800. Notable spike drop during 2020."
   ]
  },
  {
   "cell_type": "markdown",
   "id": "d99ea686-9970-43ce-b2ed-f430ea72eed0",
   "metadata": {},
   "source": [
    "### 2. Age Certification"
   ]
  },
  {
   "cell_type": "markdown",
   "id": "4af4edd7-b919-482d-b091-50650a7966fb",
   "metadata": {
    "tags": []
   },
   "source": [
    "What is the reason for the nan values? \n",
    "- Unrated films/series\n",
    "- Old Unapplicable standards to new movies. "
   ]
  },
  {
   "cell_type": "markdown",
   "id": "221c4b04-53ef-43f4-8ad0-704ef36a0836",
   "metadata": {},
   "source": [
    "**Notice:** Upon checking the age certification we see a lot of nan values. "
   ]
  },
  {
   "cell_type": "code",
   "execution_count": 8,
   "id": "5c22e2e6-620d-4e5e-82f5-0bfba152221b",
   "metadata": {},
   "outputs": [
    {
     "data": {
      "text/plain": [
       "(2619, 15)"
      ]
     },
     "execution_count": 8,
     "metadata": {},
     "output_type": "execute_result"
    }
   ],
   "source": [
    "nx_df[nx_df['age_certification'].isna()].shape"
   ]
  },
  {
   "cell_type": "markdown",
   "id": "8150a4f9-2017-4905-a39b-1c56ffb4f2c4",
   "metadata": {
    "tags": []
   },
   "source": [
    "#### Data Cleaning\n"
   ]
  },
  {
   "cell_type": "markdown",
   "id": "bdc44a51-6f57-4327-a2d8-8da6dd88d2a6",
   "metadata": {},
   "source": [
    "Checking the data, we see that there are \\\n",
    " a) multiple nan values and \\\n",
    " b) multiple representations (PG and TV-PG, G and TV-PG)"
   ]
  },
  {
   "cell_type": "code",
   "execution_count": 9,
   "id": "d96f5a59-5733-4662-9346-3867e079bf97",
   "metadata": {},
   "outputs": [],
   "source": [
    "## Show the NANS for Age Representation"
   ]
  },
  {
   "cell_type": "markdown",
   "id": "b395db5f-e2e9-483c-b7c0-e6ca71aa7c50",
   "metadata": {},
   "source": [
    "To clean the data, we will set a default value for **nan** and map our multiple representations."
   ]
  },
  {
   "cell_type": "code",
   "execution_count": 10,
   "id": "b418fc10-39ae-41a1-abab-4d7e4c9b8b22",
   "metadata": {},
   "outputs": [],
   "source": [
    "# Create a new dataset based on nx_Df.\n",
    "test_nx = nx_df.copy()\n",
    "\n",
    "#Replace nans of age_restriction with Unrated.\n",
    "test_nx.loc[test_nx['age_certification'].isnull(),'age_certification'] = \"Unrated\"\n",
    "\n",
    "#Combine PG % TV-PG and G counterparts.\n",
    "test_nx['age_certification'] = test_nx['age_certification'].replace({ 'PG':'TV-PG', 'G' : 'TV-G' })"
   ]
  },
  {
   "cell_type": "markdown",
   "id": "55276b9e-c1bc-4e4a-a179-98d38013f79a",
   "metadata": {},
   "source": [
    "**After cleaning, count the observations for each age classification per year.**"
   ]
  },
  {
   "cell_type": "code",
   "execution_count": 11,
   "id": "222818fb-505e-48da-b662-3a15d08c2bd0",
   "metadata": {},
   "outputs": [
    {
     "data": {
      "text/html": [
       "<div>\n",
       "<style scoped>\n",
       "    .dataframe tbody tr th:only-of-type {\n",
       "        vertical-align: middle;\n",
       "    }\n",
       "\n",
       "    .dataframe tbody tr th {\n",
       "        vertical-align: top;\n",
       "    }\n",
       "\n",
       "    .dataframe thead th {\n",
       "        text-align: right;\n",
       "    }\n",
       "</style>\n",
       "<table border=\"1\" class=\"dataframe\">\n",
       "  <thead>\n",
       "    <tr style=\"text-align: right;\">\n",
       "      <th></th>\n",
       "      <th>TV-MA</th>\n",
       "      <th>R</th>\n",
       "      <th>TV-PG</th>\n",
       "      <th>Unrated</th>\n",
       "      <th>TV-14</th>\n",
       "      <th>PG-13</th>\n",
       "      <th>TV-Y</th>\n",
       "      <th>TV-G</th>\n",
       "      <th>TV-Y7</th>\n",
       "      <th>NC-17</th>\n",
       "    </tr>\n",
       "  </thead>\n",
       "  <tbody>\n",
       "    <tr>\n",
       "      <th>1945</th>\n",
       "      <td>1</td>\n",
       "      <td>0</td>\n",
       "      <td>0</td>\n",
       "      <td>0</td>\n",
       "      <td>0</td>\n",
       "      <td>0</td>\n",
       "      <td>0</td>\n",
       "      <td>0</td>\n",
       "      <td>0</td>\n",
       "      <td>0</td>\n",
       "    </tr>\n",
       "    <tr>\n",
       "      <th>1954</th>\n",
       "      <td>0</td>\n",
       "      <td>0</td>\n",
       "      <td>0</td>\n",
       "      <td>2</td>\n",
       "      <td>0</td>\n",
       "      <td>0</td>\n",
       "      <td>0</td>\n",
       "      <td>0</td>\n",
       "      <td>0</td>\n",
       "      <td>0</td>\n",
       "    </tr>\n",
       "    <tr>\n",
       "      <th>1956</th>\n",
       "      <td>0</td>\n",
       "      <td>0</td>\n",
       "      <td>0</td>\n",
       "      <td>1</td>\n",
       "      <td>0</td>\n",
       "      <td>0</td>\n",
       "      <td>0</td>\n",
       "      <td>0</td>\n",
       "      <td>0</td>\n",
       "      <td>0</td>\n",
       "    </tr>\n",
       "    <tr>\n",
       "      <th>1958</th>\n",
       "      <td>0</td>\n",
       "      <td>0</td>\n",
       "      <td>0</td>\n",
       "      <td>1</td>\n",
       "      <td>0</td>\n",
       "      <td>0</td>\n",
       "      <td>0</td>\n",
       "      <td>0</td>\n",
       "      <td>0</td>\n",
       "      <td>0</td>\n",
       "    </tr>\n",
       "    <tr>\n",
       "      <th>1959</th>\n",
       "      <td>0</td>\n",
       "      <td>0</td>\n",
       "      <td>0</td>\n",
       "      <td>1</td>\n",
       "      <td>0</td>\n",
       "      <td>0</td>\n",
       "      <td>0</td>\n",
       "      <td>0</td>\n",
       "      <td>0</td>\n",
       "      <td>0</td>\n",
       "    </tr>\n",
       "    <tr>\n",
       "      <th>...</th>\n",
       "      <td>...</td>\n",
       "      <td>...</td>\n",
       "      <td>...</td>\n",
       "      <td>...</td>\n",
       "      <td>...</td>\n",
       "      <td>...</td>\n",
       "      <td>...</td>\n",
       "      <td>...</td>\n",
       "      <td>...</td>\n",
       "      <td>...</td>\n",
       "    </tr>\n",
       "    <tr>\n",
       "      <th>2018</th>\n",
       "      <td>130</td>\n",
       "      <td>76</td>\n",
       "      <td>56</td>\n",
       "      <td>349</td>\n",
       "      <td>52</td>\n",
       "      <td>40</td>\n",
       "      <td>20</td>\n",
       "      <td>25</td>\n",
       "      <td>22</td>\n",
       "      <td>3</td>\n",
       "    </tr>\n",
       "    <tr>\n",
       "      <th>2019</th>\n",
       "      <td>148</td>\n",
       "      <td>47</td>\n",
       "      <td>48</td>\n",
       "      <td>456</td>\n",
       "      <td>53</td>\n",
       "      <td>42</td>\n",
       "      <td>8</td>\n",
       "      <td>20</td>\n",
       "      <td>13</td>\n",
       "      <td>1</td>\n",
       "    </tr>\n",
       "    <tr>\n",
       "      <th>2020</th>\n",
       "      <td>149</td>\n",
       "      <td>62</td>\n",
       "      <td>49</td>\n",
       "      <td>406</td>\n",
       "      <td>56</td>\n",
       "      <td>39</td>\n",
       "      <td>14</td>\n",
       "      <td>28</td>\n",
       "      <td>9</td>\n",
       "      <td>2</td>\n",
       "    </tr>\n",
       "    <tr>\n",
       "      <th>2021</th>\n",
       "      <td>150</td>\n",
       "      <td>79</td>\n",
       "      <td>47</td>\n",
       "      <td>360</td>\n",
       "      <td>66</td>\n",
       "      <td>44</td>\n",
       "      <td>12</td>\n",
       "      <td>16</td>\n",
       "      <td>12</td>\n",
       "      <td>1</td>\n",
       "    </tr>\n",
       "    <tr>\n",
       "      <th>2022</th>\n",
       "      <td>100</td>\n",
       "      <td>35</td>\n",
       "      <td>19</td>\n",
       "      <td>142</td>\n",
       "      <td>31</td>\n",
       "      <td>23</td>\n",
       "      <td>7</td>\n",
       "      <td>5</td>\n",
       "      <td>8</td>\n",
       "      <td>1</td>\n",
       "    </tr>\n",
       "  </tbody>\n",
       "</table>\n",
       "<p>63 rows × 10 columns</p>\n",
       "</div>"
      ],
      "text/plain": [
       "      TV-MA   R  TV-PG  Unrated  TV-14  PG-13  TV-Y  TV-G  TV-Y7  NC-17\n",
       "1945      1   0      0        0      0      0     0     0      0      0\n",
       "1954      0   0      0        2      0      0     0     0      0      0\n",
       "1956      0   0      0        1      0      0     0     0      0      0\n",
       "1958      0   0      0        1      0      0     0     0      0      0\n",
       "1959      0   0      0        1      0      0     0     0      0      0\n",
       "...     ...  ..    ...      ...    ...    ...   ...   ...    ...    ...\n",
       "2018    130  76     56      349     52     40    20    25     22      3\n",
       "2019    148  47     48      456     53     42     8    20     13      1\n",
       "2020    149  62     49      406     56     39    14    28      9      2\n",
       "2021    150  79     47      360     66     44    12    16     12      1\n",
       "2022    100  35     19      142     31     23     7     5      8      1\n",
       "\n",
       "[63 rows x 10 columns]"
      ]
     },
     "execution_count": 11,
     "metadata": {},
     "output_type": "execute_result"
    }
   ],
   "source": [
    "test_dict = {}\n",
    "test_list = []\n",
    "certification_types = list(test_nx['age_certification'].unique())\n",
    "\n",
    "for year in list_year:\n",
    "    for certification in certification_types: \n",
    "        count = test_nx.loc[(test_nx['release_year'] == year) & (test_nx['age_certification'] == certification)].shape[0]\n",
    "        test_list.append(count)\n",
    "    test_dict[year] = test_list.copy()\n",
    "    test_list.clear()\n",
    "\n",
    "test_df = pd.DataFrame(test_dict).transpose()\n",
    "test_df.columns = certification_types\n",
    "test_df"
   ]
  },
  {
   "cell_type": "markdown",
   "id": "522e0964-73e0-4ca1-93e9-c43fb81b4d12",
   "metadata": {
    "tags": []
   },
   "source": [
    "#### b. Visualize the frequency of content in different age certifications.  \n",
    "From each age_certification we can generate the graph visualization to show its increase in frequency over time."
   ]
  },
  {
   "cell_type": "markdown",
   "id": "49ca00a0-40a1-47e2-9526-71a70dbed137",
   "metadata": {},
   "source": [
    "**DISCLAIMER:** The start of year was moved from 1945 to 2005 to provide a better visualization in the gradual increase in content."
   ]
  },
  {
   "cell_type": "code",
   "execution_count": 12,
   "id": "af1cbc94-47b6-47e6-bbac-1977615c0718",
   "metadata": {},
   "outputs": [
    {
     "data": {
      "image/png": "[encoded data removed]",
      "text/plain": [
       "<Figure size 432x288 with 1 Axes>"
      ]
     },
     "metadata": {
      "needs_background": "light"
     },
     "output_type": "display_data"
    },
    {
     "data": {
      "image/png": "[encoded data removed]",
      "text/plain": [
       "<Figure size 432x288 with 1 Axes>"
      ]
     },
     "metadata": {
      "needs_background": "light"
     },
     "output_type": "display_data"
    },
    {
     "data": {
      "image/png": "[encoded data removed]",
      "text/plain": [
       "<Figure size 432x288 with 1 Axes>"
      ]
     },
     "metadata": {
      "needs_background": "light"
     },
     "output_type": "display_data"
    },
    {
     "data": {
      "image/png": "[encoded data removed]",
      "text/plain": [
       "<Figure size 432x288 with 1 Axes>"
      ]
     },
     "metadata": {
      "needs_background": "light"
     },
     "output_type": "display_data"
    },
    {
     "data": {
      "image/png": "[encoded data removed]",
      "text/plain": [
       "<Figure size 432x288 with 1 Axes>"
      ]
     },
     "metadata": {
      "needs_background": "light"
     },
     "output_type": "display_data"
    },
    {
     "data": {
      "image/png": "[encoded data removed]",
      "text/plain": [
       "<Figure size 432x288 with 1 Axes>"
      ]
     },
     "metadata": {
      "needs_background": "light"
     },
     "output_type": "display_data"
    },
    {
     "data": {
      "image/png": "[encoded data removed]",
      "text/plain": [
       "<Figure size 432x288 with 1 Axes>"
      ]
     },
     "metadata": {
      "needs_background": "light"
     },
     "output_type": "display_data"
    },
    {
     "data": {
      "image/png": "[encoded data removed]",
      "text/plain": [
       "<Figure size 432x288 with 1 Axes>"
      ]
     },
     "metadata": {
      "needs_background": "light"
     },
     "output_type": "display_data"
    },
    {
     "data": {
      "image/png": "[encoded data removed]",
      "text/plain": [
       "<Figure size 432x288 with 1 Axes>"
      ]
     },
     "metadata": {
      "needs_background": "light"
     },
     "output_type": "display_data"
    },
    {
     "data": {
      "image/png": "[encoded data removed]",
      "text/plain": [
       "<Figure size 432x288 with 1 Axes>"
      ]
     },
     "metadata": {
      "needs_background": "light"
     },
     "output_type": "display_data"
    }
   ],
   "source": [
    "for certification in certification_types: \n",
    "    test2_df = test_df[(test_df.index > 2005)][certification]\n",
    "    plt.figure()\n",
    "    plt.plot(test2_df)\n",
    "    plt.xlabel('Year')\n",
    "    plt.ylabel('Frequency')\n",
    "    plt.suptitle(certification)\n",
    "    plt.show()"
   ]
  },
  {
   "cell_type": "code",
   "execution_count": null,
   "id": "fd500239-7803-4093-9027-2b7f364aca6f",
   "metadata": {},
   "outputs": [],
   "source": []
  },
  {
   "cell_type": "markdown",
   "id": "e66244d1-c083-42d5-8503-c7cdce5dd229",
   "metadata": {},
   "source": [
    "### 3. Credits Dataset"
   ]
  },
  {
   "cell_type": "markdown",
   "id": "ab0ee24c",
   "metadata": {},
   "source": [
    "The Credits Dataset consist of the Actors and the Director of the shows and movies featured in the titles.csv dataset the id variable can be used to identify the movie or show the person is featured in."
   ]
  },
  {
   "cell_type": "code",
   "execution_count": 13,
   "id": "bc1d9622-4c50-4ea1-a92f-3e22d2ad50d4",
   "metadata": {},
   "outputs": [
    {
     "data": {
      "text/html": [
       "<div>\n",
       "<style scoped>\n",
       "    .dataframe tbody tr th:only-of-type {\n",
       "        vertical-align: middle;\n",
       "    }\n",
       "\n",
       "    .dataframe tbody tr th {\n",
       "        vertical-align: top;\n",
       "    }\n",
       "\n",
       "    .dataframe thead th {\n",
       "        text-align: right;\n",
       "    }\n",
       "</style>\n",
       "<table border=\"1\" class=\"dataframe\">\n",
       "  <thead>\n",
       "    <tr style=\"text-align: right;\">\n",
       "      <th></th>\n",
       "      <th>person_id</th>\n",
       "      <th>id</th>\n",
       "      <th>name</th>\n",
       "      <th>character</th>\n",
       "      <th>role</th>\n",
       "    </tr>\n",
       "  </thead>\n",
       "  <tbody>\n",
       "    <tr>\n",
       "      <th>0</th>\n",
       "      <td>3748</td>\n",
       "      <td>tm84618</td>\n",
       "      <td>Robert De Niro</td>\n",
       "      <td>Travis Bickle</td>\n",
       "      <td>ACTOR</td>\n",
       "    </tr>\n",
       "    <tr>\n",
       "      <th>1</th>\n",
       "      <td>14658</td>\n",
       "      <td>tm84618</td>\n",
       "      <td>Jodie Foster</td>\n",
       "      <td>Iris Steensma</td>\n",
       "      <td>ACTOR</td>\n",
       "    </tr>\n",
       "    <tr>\n",
       "      <th>2</th>\n",
       "      <td>7064</td>\n",
       "      <td>tm84618</td>\n",
       "      <td>Albert Brooks</td>\n",
       "      <td>Tom</td>\n",
       "      <td>ACTOR</td>\n",
       "    </tr>\n",
       "    <tr>\n",
       "      <th>3</th>\n",
       "      <td>3739</td>\n",
       "      <td>tm84618</td>\n",
       "      <td>Harvey Keitel</td>\n",
       "      <td>Matthew 'Sport' Higgins</td>\n",
       "      <td>ACTOR</td>\n",
       "    </tr>\n",
       "    <tr>\n",
       "      <th>4</th>\n",
       "      <td>48933</td>\n",
       "      <td>tm84618</td>\n",
       "      <td>Cybill Shepherd</td>\n",
       "      <td>Betsy</td>\n",
       "      <td>ACTOR</td>\n",
       "    </tr>\n",
       "    <tr>\n",
       "      <th>...</th>\n",
       "      <td>...</td>\n",
       "      <td>...</td>\n",
       "      <td>...</td>\n",
       "      <td>...</td>\n",
       "      <td>...</td>\n",
       "    </tr>\n",
       "    <tr>\n",
       "      <th>77796</th>\n",
       "      <td>736339</td>\n",
       "      <td>tm1059008</td>\n",
       "      <td>Adelaida Buscato</td>\n",
       "      <td>María Paz</td>\n",
       "      <td>ACTOR</td>\n",
       "    </tr>\n",
       "    <tr>\n",
       "      <th>77797</th>\n",
       "      <td>399499</td>\n",
       "      <td>tm1059008</td>\n",
       "      <td>Luz Stella Luengas</td>\n",
       "      <td>Karen Bayona</td>\n",
       "      <td>ACTOR</td>\n",
       "    </tr>\n",
       "    <tr>\n",
       "      <th>77798</th>\n",
       "      <td>373198</td>\n",
       "      <td>tm1059008</td>\n",
       "      <td>Inés Prieto</td>\n",
       "      <td>Fanny</td>\n",
       "      <td>ACTOR</td>\n",
       "    </tr>\n",
       "    <tr>\n",
       "      <th>77799</th>\n",
       "      <td>378132</td>\n",
       "      <td>tm1059008</td>\n",
       "      <td>Isabel Gaona</td>\n",
       "      <td>Cacica</td>\n",
       "      <td>ACTOR</td>\n",
       "    </tr>\n",
       "    <tr>\n",
       "      <th>77800</th>\n",
       "      <td>1950416</td>\n",
       "      <td>tm1059008</td>\n",
       "      <td>Julian Gaviria</td>\n",
       "      <td>NaN</td>\n",
       "      <td>DIRECTOR</td>\n",
       "    </tr>\n",
       "  </tbody>\n",
       "</table>\n",
       "<p>77801 rows × 5 columns</p>\n",
       "</div>"
      ],
      "text/plain": [
       "       person_id         id                name                character  \\\n",
       "0           3748    tm84618      Robert De Niro            Travis Bickle   \n",
       "1          14658    tm84618        Jodie Foster            Iris Steensma   \n",
       "2           7064    tm84618       Albert Brooks                      Tom   \n",
       "3           3739    tm84618       Harvey Keitel  Matthew 'Sport' Higgins   \n",
       "4          48933    tm84618     Cybill Shepherd                    Betsy   \n",
       "...          ...        ...                 ...                      ...   \n",
       "77796     736339  tm1059008    Adelaida Buscato                María Paz   \n",
       "77797     399499  tm1059008  Luz Stella Luengas             Karen Bayona   \n",
       "77798     373198  tm1059008         Inés Prieto                    Fanny   \n",
       "77799     378132  tm1059008        Isabel Gaona                   Cacica   \n",
       "77800    1950416  tm1059008      Julian Gaviria                      NaN   \n",
       "\n",
       "           role  \n",
       "0         ACTOR  \n",
       "1         ACTOR  \n",
       "2         ACTOR  \n",
       "3         ACTOR  \n",
       "4         ACTOR  \n",
       "...         ...  \n",
       "77796     ACTOR  \n",
       "77797     ACTOR  \n",
       "77798     ACTOR  \n",
       "77799     ACTOR  \n",
       "77800  DIRECTOR  \n",
       "\n",
       "[77801 rows x 5 columns]"
      ]
     },
     "execution_count": 13,
     "metadata": {},
     "output_type": "execute_result"
    }
   ],
   "source": [
    "credits_df = pd.read_csv(\"credits.csv\")\n",
    "credits_df"
   ]
  },
  {
   "cell_type": "markdown",
   "id": "d089d699-16b0-4fe2-a09c-44fc33cec9f5",
   "metadata": {},
   "source": [
    "#### c. Actors on Popular Films"
   ]
  },
  {
   "cell_type": "markdown",
   "id": "c466f230-41ca-43b1-80b4-d0a261fd277c",
   "metadata": {},
   "source": [
    "1. List the names of Actors who have appeared atleast twice in the Top 20 most popular movies. "
   ]
  },
  {
   "cell_type": "markdown",
   "id": "b1095ebf",
   "metadata": {},
   "source": [
    "This part first sort the movies in nx_df based on their popularity. head(20) is used to get the top 20 most popular movies in the dataset.\n",
    "The ids of these movies was then put into a list named ``top_MovieID``"
   ]
  },
  {
   "cell_type": "code",
   "execution_count": 14,
   "id": "42e70a4d-3c62-432b-8799-64acc393504c",
   "metadata": {},
   "outputs": [],
   "source": [
    "top_Movies = nx_df.sort_values(by=['tmdb_popularity'], ascending = False).head(20)\n",
    "top_MovieID = list(top_Movies['id'])"
   ]
  },
  {
   "cell_type": "markdown",
   "id": "2fb230db",
   "metadata": {},
   "source": [
    "Using the top_MovieID, we can filter out the credits whose film id is present in the top 20. After the desired set is obtained, the set is further filtered to only get those with the ACTOR role. This is done so that we can only see the Actors featured in the top 20 films."
   ]
  },
  {
   "cell_type": "code",
   "execution_count": 15,
   "id": "673c1bee",
   "metadata": {},
   "outputs": [],
   "source": [
    "credit_index = np.where(credits_df['id'].isin(top_MovieID))[0]\n",
    "credits = credits_df.filter(items = credit_index , axis = 0)\n",
    "top_artists = credits[credits['role'] == 'ACTOR']"
   ]
  },
  {
   "cell_type": "markdown",
   "id": "3711b49b",
   "metadata": {},
   "source": [
    "With the top_artists already found, we will now find any duplicates, to find if a specific artists is featured in more the one films in the top 20."
   ]
  },
  {
   "cell_type": "code",
   "execution_count": 16,
   "id": "bb78abde",
   "metadata": {},
   "outputs": [
    {
     "data": {
      "text/html": [
       "<div>\n",
       "<style scoped>\n",
       "    .dataframe tbody tr th:only-of-type {\n",
       "        vertical-align: middle;\n",
       "    }\n",
       "\n",
       "    .dataframe tbody tr th {\n",
       "        vertical-align: top;\n",
       "    }\n",
       "\n",
       "    .dataframe thead th {\n",
       "        text-align: right;\n",
       "    }\n",
       "</style>\n",
       "<table border=\"1\" class=\"dataframe\">\n",
       "  <thead>\n",
       "    <tr style=\"text-align: right;\">\n",
       "      <th></th>\n",
       "      <th>person_id</th>\n",
       "      <th>id</th>\n",
       "      <th>name</th>\n",
       "      <th>character</th>\n",
       "      <th>role</th>\n",
       "    </tr>\n",
       "  </thead>\n",
       "  <tbody>\n",
       "    <tr>\n",
       "      <th>64393</th>\n",
       "      <td>7991</td>\n",
       "      <td>tm1067148</td>\n",
       "      <td>Brian T. Delaney</td>\n",
       "      <td>Jim Nicklebones (voice)</td>\n",
       "      <td>ACTOR</td>\n",
       "    </tr>\n",
       "    <tr>\n",
       "      <th>64541</th>\n",
       "      <td>2681</td>\n",
       "      <td>tm928497</td>\n",
       "      <td>María Botto</td>\n",
       "      <td>Sor Flor</td>\n",
       "      <td>ACTOR</td>\n",
       "    </tr>\n",
       "  </tbody>\n",
       "</table>\n",
       "</div>"
      ],
      "text/plain": [
       "       person_id         id              name                character   role\n",
       "64393       7991  tm1067148  Brian T. Delaney  Jim Nicklebones (voice)  ACTOR\n",
       "64541       2681   tm928497       María Botto                 Sor Flor  ACTOR"
      ]
     },
     "execution_count": 16,
     "metadata": {},
     "output_type": "execute_result"
    }
   ],
   "source": [
    "duplicated_artist = top_artists.duplicated(subset = ['person_id'])\n",
    "top_artists.loc[duplicated_artist]"
   ]
  },
  {
   "cell_type": "markdown",
   "id": "a682f3cb-e986-458b-baa9-e70a90619acf",
   "metadata": {},
   "source": [
    "`In the top 20 shows and Movies, Only 2 Artists was featured in 2 different shows. The Artists are Brian T. Delaney and Maria Botto, However only 2 artists shows that a certain actor may not be the only reason for a Movie or Show's popularity`"
   ]
  },
  {
   "cell_type": "markdown",
   "id": "8f2b2393-72e6-4a42-acc6-e539b878ebca",
   "metadata": {},
   "source": [
    "2. Is there a specific director that produces top scoring films"
   ]
  },
  {
   "cell_type": "markdown",
   "id": "7ab137f4",
   "metadata": {},
   "source": [
    "To find the top scoring films, the nx_df is sorted by their ``imdb_score`` value. The top 20 highest scoring film's ``id`` are then placed on a list called top_MovieID"
   ]
  },
  {
   "cell_type": "code",
   "execution_count": 17,
   "id": "090be59f-81a4-444f-8001-dc8c9f958305",
   "metadata": {},
   "outputs": [],
   "source": [
    "top_Movies = nx_df.sort_values(by=['imdb_score'], ascending = False).head(20)\n",
    "top_MovieID = list(top_Movies['id'])\n"
   ]
  },
  {
   "cell_type": "markdown",
   "id": "e292d3a7",
   "metadata": {},
   "source": [
    "credits_df is then filtered so that the only ones left will be those whose ``id`` is present in the top_MovieID. The set is then further filtered to only have those that have the role ``DIRECTOR``"
   ]
  },
  {
   "cell_type": "code",
   "execution_count": 32,
   "id": "1a71ab3c",
   "metadata": {},
   "outputs": [],
   "source": [
    "top_credits = credits_df['id'].isin(top_MovieID)\n",
    "credit_index = top_credits[top_credits].index\n",
    "credits = credits_df.filter(items = credit_index , axis = 0)\n",
    "top_Director = credits[credits['role'] == 'DIRECTOR']"
   ]
  },
  {
   "cell_type": "markdown",
   "id": "48a41998",
   "metadata": {},
   "source": [
    "After Obtaining the list of top_Director, We will then find if there are any duplicate directors in the Top 20. This is done to see if there are Directors that consistently produce high scoring films."
   ]
  },
  {
   "cell_type": "code",
   "execution_count": 19,
   "id": "35b69503",
   "metadata": {},
   "outputs": [
    {
     "data": {
      "text/plain": [
       "0"
      ]
     },
     "execution_count": 19,
     "metadata": {},
     "output_type": "execute_result"
    }
   ],
   "source": [
    "duplicated_directors = top_Director.duplicated(subset = ['person_id']).sum()\n",
    "duplicated_directors"
   ]
  },
  {
   "cell_type": "markdown",
   "id": "9b94feee-2f6f-43f3-ad27-18b8369b6217",
   "metadata": {},
   "source": [
    "`In the top 20 shows, No Show or Movie shares the Same Director, this shows that no specific director has multiple entries in the top 20 Movies and Shows.`"
   ]
  },
  {
   "cell_type": "markdown",
   "id": "a68b4bf3-91ba-4d9d-b65a-300c42b379c4",
   "metadata": {},
   "source": [
    "### 4. Season and IMDB Score Correlation"
   ]
  },
  {
   "cell_type": "markdown",
   "id": "1ba9677d-0d84-4770-9cf7-38805a39053f",
   "metadata": {},
   "source": [
    "#### find the correlation between the number of seasons in a show and its rating on IMDB"
   ]
  },
  {
   "cell_type": "code",
   "execution_count": 20,
   "id": "736e2a9d-cf74-40f0-9053-430db5e000fc",
   "metadata": {},
   "outputs": [
    {
     "data": {
      "text/html": [
       "<div>\n",
       "<style scoped>\n",
       "    .dataframe tbody tr th:only-of-type {\n",
       "        vertical-align: middle;\n",
       "    }\n",
       "\n",
       "    .dataframe tbody tr th {\n",
       "        vertical-align: top;\n",
       "    }\n",
       "\n",
       "    .dataframe thead tr th {\n",
       "        text-align: left;\n",
       "    }\n",
       "\n",
       "    .dataframe thead tr:last-of-type th {\n",
       "        text-align: right;\n",
       "    }\n",
       "</style>\n",
       "<table border=\"1\" class=\"dataframe\">\n",
       "  <thead>\n",
       "    <tr>\n",
       "      <th></th>\n",
       "      <th>imdb_score</th>\n",
       "    </tr>\n",
       "    <tr>\n",
       "      <th></th>\n",
       "      <th>mean</th>\n",
       "    </tr>\n",
       "    <tr>\n",
       "      <th>seasons</th>\n",
       "      <th></th>\n",
       "    </tr>\n",
       "  </thead>\n",
       "  <tbody>\n",
       "    <tr>\n",
       "      <th>21.0</th>\n",
       "      <td>8.800000</td>\n",
       "    </tr>\n",
       "    <tr>\n",
       "      <th>32.0</th>\n",
       "      <td>8.700000</td>\n",
       "    </tr>\n",
       "    <tr>\n",
       "      <th>9.0</th>\n",
       "      <td>8.222222</td>\n",
       "    </tr>\n",
       "    <tr>\n",
       "      <th>20.0</th>\n",
       "      <td>7.800000</td>\n",
       "    </tr>\n",
       "    <tr>\n",
       "      <th>37.0</th>\n",
       "      <td>7.800000</td>\n",
       "    </tr>\n",
       "    <tr>\n",
       "      <th>11.0</th>\n",
       "      <td>7.650000</td>\n",
       "    </tr>\n",
       "    <tr>\n",
       "      <th>15.0</th>\n",
       "      <td>7.633333</td>\n",
       "    </tr>\n",
       "    <tr>\n",
       "      <th>19.0</th>\n",
       "      <td>7.600000</td>\n",
       "    </tr>\n",
       "    <tr>\n",
       "      <th>7.0</th>\n",
       "      <td>7.577778</td>\n",
       "    </tr>\n",
       "    <tr>\n",
       "      <th>6.0</th>\n",
       "      <td>7.448571</td>\n",
       "    </tr>\n",
       "    <tr>\n",
       "      <th>5.0</th>\n",
       "      <td>7.412658</td>\n",
       "    </tr>\n",
       "    <tr>\n",
       "      <th>25.0</th>\n",
       "      <td>7.400000</td>\n",
       "    </tr>\n",
       "    <tr>\n",
       "      <th>42.0</th>\n",
       "      <td>7.400000</td>\n",
       "    </tr>\n",
       "    <tr>\n",
       "      <th>16.0</th>\n",
       "      <td>7.300000</td>\n",
       "    </tr>\n",
       "    <tr>\n",
       "      <th>3.0</th>\n",
       "      <td>7.227072</td>\n",
       "    </tr>\n",
       "    <tr>\n",
       "      <th>8.0</th>\n",
       "      <td>7.200000</td>\n",
       "    </tr>\n",
       "    <tr>\n",
       "      <th>12.0</th>\n",
       "      <td>7.100000</td>\n",
       "    </tr>\n",
       "    <tr>\n",
       "      <th>4.0</th>\n",
       "      <td>6.987288</td>\n",
       "    </tr>\n",
       "    <tr>\n",
       "      <th>10.0</th>\n",
       "      <td>6.950000</td>\n",
       "    </tr>\n",
       "    <tr>\n",
       "      <th>2.0</th>\n",
       "      <td>6.939189</td>\n",
       "    </tr>\n",
       "    <tr>\n",
       "      <th>1.0</th>\n",
       "      <td>6.871679</td>\n",
       "    </tr>\n",
       "    <tr>\n",
       "      <th>13.0</th>\n",
       "      <td>6.750000</td>\n",
       "    </tr>\n",
       "    <tr>\n",
       "      <th>39.0</th>\n",
       "      <td>6.700000</td>\n",
       "    </tr>\n",
       "    <tr>\n",
       "      <th>29.0</th>\n",
       "      <td>6.500000</td>\n",
       "    </tr>\n",
       "    <tr>\n",
       "      <th>24.0</th>\n",
       "      <td>6.050000</td>\n",
       "    </tr>\n",
       "    <tr>\n",
       "      <th>14.0</th>\n",
       "      <td>3.800000</td>\n",
       "    </tr>\n",
       "  </tbody>\n",
       "</table>\n",
       "</div>"
      ],
      "text/plain": [
       "        imdb_score\n",
       "              mean\n",
       "seasons           \n",
       "21.0      8.800000\n",
       "32.0      8.700000\n",
       "9.0       8.222222\n",
       "20.0      7.800000\n",
       "37.0      7.800000\n",
       "11.0      7.650000\n",
       "15.0      7.633333\n",
       "19.0      7.600000\n",
       "7.0       7.577778\n",
       "6.0       7.448571\n",
       "5.0       7.412658\n",
       "25.0      7.400000\n",
       "42.0      7.400000\n",
       "16.0      7.300000\n",
       "3.0       7.227072\n",
       "8.0       7.200000\n",
       "12.0      7.100000\n",
       "4.0       6.987288\n",
       "10.0      6.950000\n",
       "2.0       6.939189\n",
       "1.0       6.871679\n",
       "13.0      6.750000\n",
       "39.0      6.700000\n",
       "29.0      6.500000\n",
       "24.0      6.050000\n",
       "14.0      3.800000"
      ]
     },
     "execution_count": 20,
     "metadata": {},
     "output_type": "execute_result"
    }
   ],
   "source": [
    "season_rating = nx_df.groupby(\"seasons\").agg({\"imdb_score\": [\"mean\"]})\n",
    "season_rating.sort_values((\"imdb_score\", \"mean\"), ascending=False)"
   ]
  },
  {
   "cell_type": "code",
   "execution_count": 21,
   "id": "080902c6-47c9-4c09-a442-8e956bffe08a",
   "metadata": {},
   "outputs": [
    {
     "data": {
      "text/html": [
       "<div>\n",
       "<style scoped>\n",
       "    .dataframe tbody tr th:only-of-type {\n",
       "        vertical-align: middle;\n",
       "    }\n",
       "\n",
       "    .dataframe tbody tr th {\n",
       "        vertical-align: top;\n",
       "    }\n",
       "\n",
       "    .dataframe thead th {\n",
       "        text-align: right;\n",
       "    }\n",
       "</style>\n",
       "<table border=\"1\" class=\"dataframe\">\n",
       "  <thead>\n",
       "    <tr style=\"text-align: right;\">\n",
       "      <th></th>\n",
       "      <th>seasons</th>\n",
       "      <th>imdb_score</th>\n",
       "    </tr>\n",
       "  </thead>\n",
       "  <tbody>\n",
       "    <tr>\n",
       "      <th>seasons</th>\n",
       "      <td>1.000000</td>\n",
       "      <td>0.106806</td>\n",
       "    </tr>\n",
       "    <tr>\n",
       "      <th>imdb_score</th>\n",
       "      <td>0.106806</td>\n",
       "      <td>1.000000</td>\n",
       "    </tr>\n",
       "  </tbody>\n",
       "</table>\n",
       "</div>"
      ],
      "text/plain": [
       "             seasons  imdb_score\n",
       "seasons     1.000000    0.106806\n",
       "imdb_score  0.106806    1.000000"
      ]
     },
     "execution_count": 21,
     "metadata": {},
     "output_type": "execute_result"
    }
   ],
   "source": [
    "seasons_score = nx_df[['seasons', 'imdb_score']]\n",
    "seasons_score.corr()"
   ]
  },
  {
   "cell_type": "code",
   "execution_count": 22,
   "id": "b0021a86-a648-46c8-b61a-276658df5649",
   "metadata": {},
   "outputs": [
    {
     "data": {
      "text/plain": [
       "Text(0.5, 1.0, 'Relationship of Number of Seasons and IMDB Score')"
      ]
     },
     "execution_count": 22,
     "metadata": {},
     "output_type": "execute_result"
    },
    {
     "data": {
      "image/png": "[encoded data removed]",
      "text/plain": [
       "<Figure size 432x288 with 1 Axes>"
      ]
     },
     "metadata": {
      "needs_background": "light"
     },
     "output_type": "display_data"
    }
   ],
   "source": [
    "seasons_score.plot.scatter(x='seasons', y='imdb_score', alpha=0.5)\n",
    "plt.title('Relationship of Number of Seasons and IMDB Score')"
   ]
  },
  {
   "cell_type": "markdown",
   "id": "8cf64fe9-41b4-4ddf-8c70-3d67a00a6b4d",
   "metadata": {},
   "source": [
    "### 5. Most Popular Genre Combinations"
   ]
  },
  {
   "cell_type": "code",
   "execution_count": 23,
   "id": "b77fd59f-9aae-4016-a5f3-9ae35cfbf51f",
   "metadata": {},
   "outputs": [],
   "source": [
    "#### sorting movies by their popularity according to their genre"
   ]
  },
  {
   "cell_type": "code",
   "execution_count": 24,
   "id": "fe9bd82e-ba6d-495d-b2b0-cb390dc199d3",
   "metadata": {},
   "outputs": [
    {
     "data": {
      "text/html": [
       "<div>\n",
       "<style scoped>\n",
       "    .dataframe tbody tr th:only-of-type {\n",
       "        vertical-align: middle;\n",
       "    }\n",
       "\n",
       "    .dataframe tbody tr th {\n",
       "        vertical-align: top;\n",
       "    }\n",
       "\n",
       "    .dataframe thead tr th {\n",
       "        text-align: left;\n",
       "    }\n",
       "\n",
       "    .dataframe thead tr:last-of-type th {\n",
       "        text-align: right;\n",
       "    }\n",
       "</style>\n",
       "<table border=\"1\" class=\"dataframe\">\n",
       "  <thead>\n",
       "    <tr>\n",
       "      <th></th>\n",
       "      <th>tmdb_popularity</th>\n",
       "    </tr>\n",
       "    <tr>\n",
       "      <th></th>\n",
       "      <th>mean</th>\n",
       "    </tr>\n",
       "    <tr>\n",
       "      <th>genres</th>\n",
       "      <th></th>\n",
       "    </tr>\n",
       "  </thead>\n",
       "  <tbody>\n",
       "    <tr>\n",
       "      <th>['scifi', 'thriller', 'drama', 'fantasy', 'horror']</th>\n",
       "      <td>2226.231</td>\n",
       "    </tr>\n",
       "    <tr>\n",
       "      <th>['comedy', 'family', 'fantasy', 'scifi', 'animation']</th>\n",
       "      <td>1723.363</td>\n",
       "    </tr>\n",
       "    <tr>\n",
       "      <th>['comedy', 'horror', 'war', 'fantasy', 'thriller', 'action']</th>\n",
       "      <td>1668.296</td>\n",
       "    </tr>\n",
       "    <tr>\n",
       "      <th>['action', 'thriller', 'drama', 'romance', 'comedy']</th>\n",
       "      <td>1439.906</td>\n",
       "    </tr>\n",
       "    <tr>\n",
       "      <th>['scifi', 'thriller', 'drama', 'action', 'crime']</th>\n",
       "      <td>996.869</td>\n",
       "    </tr>\n",
       "    <tr>\n",
       "      <th>...</th>\n",
       "      <td>...</td>\n",
       "    </tr>\n",
       "    <tr>\n",
       "      <th>['comedy', 'documentation', 'european']</th>\n",
       "      <td>0.600</td>\n",
       "    </tr>\n",
       "    <tr>\n",
       "      <th>['animation', 'comedy', 'drama']</th>\n",
       "      <td>NaN</td>\n",
       "    </tr>\n",
       "    <tr>\n",
       "      <th>['horror', 'thriller', 'war', 'action', 'crime']</th>\n",
       "      <td>NaN</td>\n",
       "    </tr>\n",
       "    <tr>\n",
       "      <th>['romance', 'scifi', 'drama', 'fantasy']</th>\n",
       "      <td>NaN</td>\n",
       "    </tr>\n",
       "    <tr>\n",
       "      <th>['scifi', 'action', 'drama', 'fantasy']</th>\n",
       "      <td>NaN</td>\n",
       "    </tr>\n",
       "  </tbody>\n",
       "</table>\n",
       "<p>1726 rows × 1 columns</p>\n",
       "</div>"
      ],
      "text/plain": [
       "                                                   tmdb_popularity\n",
       "                                                              mean\n",
       "genres                                                            \n",
       "['scifi', 'thriller', 'drama', 'fantasy', 'horr...        2226.231\n",
       "['comedy', 'family', 'fantasy', 'scifi', 'anima...        1723.363\n",
       "['comedy', 'horror', 'war', 'fantasy', 'thrille...        1668.296\n",
       "['action', 'thriller', 'drama', 'romance', 'com...        1439.906\n",
       "['scifi', 'thriller', 'drama', 'action', 'crime']          996.869\n",
       "...                                                            ...\n",
       "['comedy', 'documentation', 'european']                      0.600\n",
       "['animation', 'comedy', 'drama']                               NaN\n",
       "['horror', 'thriller', 'war', 'action', 'crime']               NaN\n",
       "['romance', 'scifi', 'drama', 'fantasy']                       NaN\n",
       "['scifi', 'action', 'drama', 'fantasy']                        NaN\n",
       "\n",
       "[1726 rows x 1 columns]"
      ]
     },
     "execution_count": 24,
     "metadata": {},
     "output_type": "execute_result"
    }
   ],
   "source": [
    "genre_pop = nx_df.groupby(\"genres\").agg({\"tmdb_popularity\": [\"mean\"]})\n",
    "genre_pop.sort_values((\"tmdb_popularity\", \"mean\"), ascending=False)"
   ]
  },
  {
   "cell_type": "markdown",
   "id": "e0976276-01c0-490c-8b61-ad65840d839a",
   "metadata": {
    "tags": []
   },
   "source": [
    "## II. Research Question"
   ]
  },
  {
   "cell_type": "markdown",
   "id": "4a3255fb-d211-4747-be55-0e727a1685e5",
   "metadata": {},
   "source": [
    "### What are the Genres that usually go together?"
   ]
  },
  {
   "cell_type": "code",
   "execution_count": null,
   "id": "f36203a4-0761-4555-8bf0-5be31275e43e",
   "metadata": {},
   "outputs": [],
   "source": []
  },
  {
   "cell_type": "code",
   "execution_count": null,
   "id": "8e2be728-2d47-4c1f-af10-f8f6c8f69dd3",
   "metadata": {},
   "outputs": [],
   "source": []
  },
  {
   "cell_type": "code",
   "execution_count": null,
   "id": "14c898ca-6649-4ca1-b01b-79c91fe7e479",
   "metadata": {},
   "outputs": [],
   "source": []
  },
  {
   "cell_type": "markdown",
   "id": "18864591-7112-46d7-825f-617100eec0aa",
   "metadata": {
    "tags": []
   },
   "source": [
    "## III. [For Phase 2]: GENRE"
   ]
  },
  {
   "cell_type": "code",
   "execution_count": 25,
   "id": "580cae14-3621-481e-8004-784c1fcc74bd",
   "metadata": {},
   "outputs": [
    {
     "data": {
      "text/plain": [
       "(59, 15)"
      ]
     },
     "execution_count": 25,
     "metadata": {},
     "output_type": "execute_result"
    }
   ],
   "source": [
    "nx_df[nx_df['genres'] == '[]'].shape"
   ]
  },
  {
   "cell_type": "markdown",
   "id": "e3f9157c-9fba-4f53-a308-e79ccc2bbd78",
   "metadata": {},
   "source": [
    "With the relatively low number of missing values, we can opt to remove."
   ]
  },
  {
   "cell_type": "markdown",
   "id": "9e3ea255-c2ff-42bd-908a-3c64b03ea859",
   "metadata": {},
   "source": [
    "### Data Cleaning"
   ]
  },
  {
   "cell_type": "code",
   "execution_count": 26,
   "id": "1832313f-3237-4004-9d5a-080ca8c00e5d",
   "metadata": {},
   "outputs": [],
   "source": [
    "#drop the content  where [] is the genre.\n",
    "genre_df = nx_df.copy()\n",
    "genre_df = genre_df.drop(genre_df[nx_df['genres'] == '[]'].index)\n",
    "\n",
    "#Find the types of genres.\n",
    "#for each observation, get the individual genres and place them in a list.\n",
    "#perform one hot encoding."
   ]
  },
  {
   "cell_type": "code",
   "execution_count": 27,
   "id": "4b73235d-f799-42d9-8c90-4b320ad83881",
   "metadata": {},
   "outputs": [
    {
     "data": {
      "text/plain": [
       "5791"
      ]
     },
     "execution_count": 27,
     "metadata": {},
     "output_type": "execute_result"
    }
   ],
   "source": [
    "words = []\n",
    "cleaned_genre = []\n",
    "list_of_genres = []\n",
    "for i in genre_df['genres'].index:\n",
    "    for j in  genre_df['genres'][i].split(\"'\"):\n",
    "        if(len(j) > 2):\n",
    "            words.append(j)\n",
    "            if(list_of_genres.count(j) == 0):\n",
    "                list_of_genres.append(j)\n",
    "    cleaned_genre.append(words.copy())\n",
    "    words.clear()\n",
    "genre_df['genres'] = cleaned_genre\n",
    "len(genre_df)"
   ]
  },
  {
   "cell_type": "markdown",
   "id": "d1461dc6-8134-4e4a-a48f-8342ad088686",
   "metadata": {},
   "source": [
    "Because an observation can have multiple genres, we need to **separate them first**."
   ]
  },
  {
   "cell_type": "code",
   "execution_count": 28,
   "id": "bc846937-3170-4845-b08c-e8b76eccab4b",
   "metadata": {},
   "outputs": [],
   "source": [
    "#Get all the genre options\n",
    "final_genre_df = pd.DataFrame([[0 for _ in range(len(list_of_genres))] for _ in range(5791)], columns=list_of_genres)\n",
    "genre_df['index'] = list(range(0,5791))\n",
    "genre_df = genre_df.set_index('index')"
   ]
  },
  {
   "cell_type": "markdown",
   "id": "3cd859ff-47b9-448f-aedf-beb43dc194d1",
   "metadata": {},
   "source": [
    "### One Hot Encoding"
   ]
  },
  {
   "cell_type": "markdown",
   "id": "c43975bc-6c55-4170-b39c-85b6383c1a77",
   "metadata": {},
   "source": [
    "For all observations, we perform **one hot encoding** on each genre. "
   ]
  },
  {
   "cell_type": "code",
   "execution_count": 29,
   "id": "1c7e9ffc-28b4-40cc-94a9-57f2636fa88e",
   "metadata": {},
   "outputs": [],
   "source": [
    "for row in genre_df.index:\n",
    "    for genre in range(len(genre_df['genres'][row])):\n",
    "        for types in range(len(list_of_genres)):\n",
    "            if(genre_df['genres'][row][genre] == list_of_genres[types]):\n",
    "                try:\n",
    "                    final_genre_df.iloc[row,types] = 1\n",
    "                except:\n",
    "                    print(row, types)"
   ]
  },
  {
   "cell_type": "code",
   "execution_count": 30,
   "id": "08b6ad44-bf33-436a-857e-d4be324005f6",
   "metadata": {},
   "outputs": [
    {
     "data": {
      "text/html": [
       "<div>\n",
       "<style scoped>\n",
       "    .dataframe tbody tr th:only-of-type {\n",
       "        vertical-align: middle;\n",
       "    }\n",
       "\n",
       "    .dataframe tbody tr th {\n",
       "        vertical-align: top;\n",
       "    }\n",
       "\n",
       "    .dataframe thead th {\n",
       "        text-align: right;\n",
       "    }\n",
       "</style>\n",
       "<table border=\"1\" class=\"dataframe\">\n",
       "  <thead>\n",
       "    <tr style=\"text-align: right;\">\n",
       "      <th></th>\n",
       "      <th>documentation</th>\n",
       "      <th>drama</th>\n",
       "      <th>crime</th>\n",
       "      <th>action</th>\n",
       "      <th>thriller</th>\n",
       "      <th>european</th>\n",
       "      <th>fantasy</th>\n",
       "      <th>comedy</th>\n",
       "      <th>war</th>\n",
       "      <th>romance</th>\n",
       "      <th>western</th>\n",
       "      <th>history</th>\n",
       "      <th>music</th>\n",
       "      <th>family</th>\n",
       "      <th>horror</th>\n",
       "      <th>scifi</th>\n",
       "      <th>animation</th>\n",
       "      <th>reality</th>\n",
       "      <th>sport</th>\n",
       "    </tr>\n",
       "  </thead>\n",
       "  <tbody>\n",
       "    <tr>\n",
       "      <th>0</th>\n",
       "      <td>1</td>\n",
       "      <td>0</td>\n",
       "      <td>0</td>\n",
       "      <td>0</td>\n",
       "      <td>0</td>\n",
       "      <td>0</td>\n",
       "      <td>0</td>\n",
       "      <td>0</td>\n",
       "      <td>0</td>\n",
       "      <td>0</td>\n",
       "      <td>0</td>\n",
       "      <td>0</td>\n",
       "      <td>0</td>\n",
       "      <td>0</td>\n",
       "      <td>0</td>\n",
       "      <td>0</td>\n",
       "      <td>0</td>\n",
       "      <td>0</td>\n",
       "      <td>0</td>\n",
       "    </tr>\n",
       "    <tr>\n",
       "      <th>1</th>\n",
       "      <td>0</td>\n",
       "      <td>1</td>\n",
       "      <td>1</td>\n",
       "      <td>0</td>\n",
       "      <td>0</td>\n",
       "      <td>0</td>\n",
       "      <td>0</td>\n",
       "      <td>0</td>\n",
       "      <td>0</td>\n",
       "      <td>0</td>\n",
       "      <td>0</td>\n",
       "      <td>0</td>\n",
       "      <td>0</td>\n",
       "      <td>0</td>\n",
       "      <td>0</td>\n",
       "      <td>0</td>\n",
       "      <td>0</td>\n",
       "      <td>0</td>\n",
       "      <td>0</td>\n",
       "    </tr>\n",
       "    <tr>\n",
       "      <th>2</th>\n",
       "      <td>0</td>\n",
       "      <td>1</td>\n",
       "      <td>0</td>\n",
       "      <td>1</td>\n",
       "      <td>1</td>\n",
       "      <td>1</td>\n",
       "      <td>0</td>\n",
       "      <td>0</td>\n",
       "      <td>0</td>\n",
       "      <td>0</td>\n",
       "      <td>0</td>\n",
       "      <td>0</td>\n",
       "      <td>0</td>\n",
       "      <td>0</td>\n",
       "      <td>0</td>\n",
       "      <td>0</td>\n",
       "      <td>0</td>\n",
       "      <td>0</td>\n",
       "      <td>0</td>\n",
       "    </tr>\n",
       "    <tr>\n",
       "      <th>3</th>\n",
       "      <td>0</td>\n",
       "      <td>0</td>\n",
       "      <td>0</td>\n",
       "      <td>1</td>\n",
       "      <td>0</td>\n",
       "      <td>0</td>\n",
       "      <td>1</td>\n",
       "      <td>1</td>\n",
       "      <td>0</td>\n",
       "      <td>0</td>\n",
       "      <td>0</td>\n",
       "      <td>0</td>\n",
       "      <td>0</td>\n",
       "      <td>0</td>\n",
       "      <td>0</td>\n",
       "      <td>0</td>\n",
       "      <td>0</td>\n",
       "      <td>0</td>\n",
       "      <td>0</td>\n",
       "    </tr>\n",
       "    <tr>\n",
       "      <th>4</th>\n",
       "      <td>0</td>\n",
       "      <td>0</td>\n",
       "      <td>0</td>\n",
       "      <td>1</td>\n",
       "      <td>0</td>\n",
       "      <td>0</td>\n",
       "      <td>0</td>\n",
       "      <td>0</td>\n",
       "      <td>1</td>\n",
       "      <td>0</td>\n",
       "      <td>0</td>\n",
       "      <td>0</td>\n",
       "      <td>0</td>\n",
       "      <td>0</td>\n",
       "      <td>0</td>\n",
       "      <td>0</td>\n",
       "      <td>0</td>\n",
       "      <td>0</td>\n",
       "      <td>0</td>\n",
       "    </tr>\n",
       "    <tr>\n",
       "      <th>...</th>\n",
       "      <td>...</td>\n",
       "      <td>...</td>\n",
       "      <td>...</td>\n",
       "      <td>...</td>\n",
       "      <td>...</td>\n",
       "      <td>...</td>\n",
       "      <td>...</td>\n",
       "      <td>...</td>\n",
       "      <td>...</td>\n",
       "      <td>...</td>\n",
       "      <td>...</td>\n",
       "      <td>...</td>\n",
       "      <td>...</td>\n",
       "      <td>...</td>\n",
       "      <td>...</td>\n",
       "      <td>...</td>\n",
       "      <td>...</td>\n",
       "      <td>...</td>\n",
       "      <td>...</td>\n",
       "    </tr>\n",
       "    <tr>\n",
       "      <th>5786</th>\n",
       "      <td>0</td>\n",
       "      <td>1</td>\n",
       "      <td>0</td>\n",
       "      <td>0</td>\n",
       "      <td>0</td>\n",
       "      <td>0</td>\n",
       "      <td>0</td>\n",
       "      <td>1</td>\n",
       "      <td>0</td>\n",
       "      <td>1</td>\n",
       "      <td>0</td>\n",
       "      <td>0</td>\n",
       "      <td>0</td>\n",
       "      <td>0</td>\n",
       "      <td>0</td>\n",
       "      <td>0</td>\n",
       "      <td>0</td>\n",
       "      <td>0</td>\n",
       "      <td>0</td>\n",
       "    </tr>\n",
       "    <tr>\n",
       "      <th>5787</th>\n",
       "      <td>0</td>\n",
       "      <td>1</td>\n",
       "      <td>0</td>\n",
       "      <td>0</td>\n",
       "      <td>0</td>\n",
       "      <td>0</td>\n",
       "      <td>0</td>\n",
       "      <td>0</td>\n",
       "      <td>0</td>\n",
       "      <td>1</td>\n",
       "      <td>0</td>\n",
       "      <td>0</td>\n",
       "      <td>0</td>\n",
       "      <td>0</td>\n",
       "      <td>0</td>\n",
       "      <td>0</td>\n",
       "      <td>0</td>\n",
       "      <td>0</td>\n",
       "      <td>0</td>\n",
       "    </tr>\n",
       "    <tr>\n",
       "      <th>5788</th>\n",
       "      <td>0</td>\n",
       "      <td>1</td>\n",
       "      <td>0</td>\n",
       "      <td>0</td>\n",
       "      <td>0</td>\n",
       "      <td>0</td>\n",
       "      <td>0</td>\n",
       "      <td>0</td>\n",
       "      <td>0</td>\n",
       "      <td>0</td>\n",
       "      <td>0</td>\n",
       "      <td>0</td>\n",
       "      <td>0</td>\n",
       "      <td>0</td>\n",
       "      <td>0</td>\n",
       "      <td>0</td>\n",
       "      <td>0</td>\n",
       "      <td>0</td>\n",
       "      <td>0</td>\n",
       "    </tr>\n",
       "    <tr>\n",
       "      <th>5789</th>\n",
       "      <td>0</td>\n",
       "      <td>0</td>\n",
       "      <td>0</td>\n",
       "      <td>0</td>\n",
       "      <td>0</td>\n",
       "      <td>0</td>\n",
       "      <td>0</td>\n",
       "      <td>1</td>\n",
       "      <td>0</td>\n",
       "      <td>0</td>\n",
       "      <td>0</td>\n",
       "      <td>0</td>\n",
       "      <td>0</td>\n",
       "      <td>0</td>\n",
       "      <td>0</td>\n",
       "      <td>0</td>\n",
       "      <td>0</td>\n",
       "      <td>0</td>\n",
       "      <td>0</td>\n",
       "    </tr>\n",
       "    <tr>\n",
       "      <th>5790</th>\n",
       "      <td>0</td>\n",
       "      <td>0</td>\n",
       "      <td>0</td>\n",
       "      <td>0</td>\n",
       "      <td>0</td>\n",
       "      <td>0</td>\n",
       "      <td>0</td>\n",
       "      <td>1</td>\n",
       "      <td>0</td>\n",
       "      <td>0</td>\n",
       "      <td>0</td>\n",
       "      <td>0</td>\n",
       "      <td>0</td>\n",
       "      <td>1</td>\n",
       "      <td>0</td>\n",
       "      <td>0</td>\n",
       "      <td>1</td>\n",
       "      <td>0</td>\n",
       "      <td>0</td>\n",
       "    </tr>\n",
       "  </tbody>\n",
       "</table>\n",
       "<p>5791 rows × 19 columns</p>\n",
       "</div>"
      ],
      "text/plain": [
       "      documentation  drama  crime  action  thriller  european  fantasy  \\\n",
       "0                 1      0      0       0         0         0        0   \n",
       "1                 0      1      1       0         0         0        0   \n",
       "2                 0      1      0       1         1         1        0   \n",
       "3                 0      0      0       1         0         0        1   \n",
       "4                 0      0      0       1         0         0        0   \n",
       "...             ...    ...    ...     ...       ...       ...      ...   \n",
       "5786              0      1      0       0         0         0        0   \n",
       "5787              0      1      0       0         0         0        0   \n",
       "5788              0      1      0       0         0         0        0   \n",
       "5789              0      0      0       0         0         0        0   \n",
       "5790              0      0      0       0         0         0        0   \n",
       "\n",
       "      comedy  war  romance  western  history  music  family  horror  scifi  \\\n",
       "0          0    0        0        0        0      0       0       0      0   \n",
       "1          0    0        0        0        0      0       0       0      0   \n",
       "2          0    0        0        0        0      0       0       0      0   \n",
       "3          1    0        0        0        0      0       0       0      0   \n",
       "4          0    1        0        0        0      0       0       0      0   \n",
       "...      ...  ...      ...      ...      ...    ...     ...     ...    ...   \n",
       "5786       1    0        1        0        0      0       0       0      0   \n",
       "5787       0    0        1        0        0      0       0       0      0   \n",
       "5788       0    0        0        0        0      0       0       0      0   \n",
       "5789       1    0        0        0        0      0       0       0      0   \n",
       "5790       1    0        0        0        0      0       1       0      0   \n",
       "\n",
       "      animation  reality  sport  \n",
       "0             0        0      0  \n",
       "1             0        0      0  \n",
       "2             0        0      0  \n",
       "3             0        0      0  \n",
       "4             0        0      0  \n",
       "...         ...      ...    ...  \n",
       "5786          0        0      0  \n",
       "5787          0        0      0  \n",
       "5788          0        0      0  \n",
       "5789          0        0      0  \n",
       "5790          1        0      0  \n",
       "\n",
       "[5791 rows x 19 columns]"
      ]
     },
     "execution_count": 30,
     "metadata": {},
     "output_type": "execute_result"
    }
   ],
   "source": [
    "final_genre_df"
   ]
  },
  {
   "cell_type": "markdown",
   "id": "992b45a4-d28a-4574-843f-9f967a74da99",
   "metadata": {},
   "source": [
    "### c. Retriveing Association Rules"
   ]
  },
  {
   "cell_type": "markdown",
   "id": "5cd4b99f-db10-4b9b-803b-bffa2ccf489d",
   "metadata": {},
   "source": [
    "Instantiate a `RuleMiner` object with support threshold (`support_t`) equal to `85` and confidence threshold (`confidence_t`) equal to `0.75`. \n",
    "\n",
    "Assign the object to variable `gm_01`."
   ]
  },
  {
   "cell_type": "code",
   "execution_count": 31,
   "id": "9ad760cc-67d3-4bee-bdd2-0e7536f5d96d",
   "metadata": {},
   "outputs": [
    {
     "ename": "NameError",
     "evalue": "name 'RuleMiner' is not defined",
     "output_type": "error",
     "traceback": [
      "\u001b[1;31m---------------------------------------------------------------------------\u001b[0m",
      "\u001b[1;31mNameError\u001b[0m                                 Traceback (most recent call last)",
      "Input \u001b[1;32mIn [31]\u001b[0m, in \u001b[0;36m<cell line: 1>\u001b[1;34m()\u001b[0m\n\u001b[1;32m----> 1\u001b[0m gm_01 \u001b[38;5;241m=\u001b[39m \u001b[43mRuleMiner\u001b[49m(\u001b[38;5;241m85\u001b[39m,\u001b[38;5;241m0.75\u001b[39m)\n",
      "\u001b[1;31mNameError\u001b[0m: name 'RuleMiner' is not defined"
     ]
    }
   ],
   "source": [
    "gm_01 = RuleMiner(85,0.75)"
   ]
  },
  {
   "cell_type": "code",
   "execution_count": null,
   "id": "a8df8292-0ec7-4fcd-b8d7-5a90acd6d761",
   "metadata": {},
   "outputs": [],
   "source": [
    "gm_01.get_association_rules(final_genre_df)"
   ]
  },
  {
   "cell_type": "code",
   "execution_count": null,
   "id": "fa23fa26-865a-43b7-84cc-b2bf76379cf7",
   "metadata": {},
   "outputs": [],
   "source": []
  }
 ],
 "metadata": {
  "kernelspec": {
   "display_name": "Python 3 (ipykernel)",
   "language": "python",
   "name": "python3"
  },
  "language_info": {
   "codemirror_mode": {
    "name": "ipython",
    "version": 3
   },
   "file_extension": ".py",
   "mimetype": "text/x-python",
   "name": "python",
   "nbconvert_exporter": "python",
   "pygments_lexer": "ipython3",
   "version": "3.10.1"
  },
  "vscode": {
   "interpreter": {
    "hash": "24c5cde46e7d71803faa4a06690a525d265b8af70b97d5835f490456f4333bed"
   }
  }
 },
 "nbformat": 4,
 "nbformat_minor": 5
}
