{
 "cells": [
  {
   "cell_type": "markdown",
   "id": "4aa3296d-ceca-412a-805f-f8608239da04",
   "metadata": {},
   "source": [
    "# Analyzing Netflix Dataset (Phase 1)\n",
    "In this notebook, we will explore the list of shows and their features currently available for streaming on Netflix USA. This data was acquired in July 2022 containing data available in the United States."
   ]
  },
  {
   "cell_type": "markdown",
   "id": "04304aae-1e61-41df-a9cb-1dbcfe587be5",
   "metadata": {},
   "source": [
    "### Collection Process \n",
    "The dataset was a result of Web Scraping techniques deployed using AJAX and GraphQL queries. The data returns and is recorded as a JSON file. \n"
   ]
  },
  {
   "cell_type": "markdown",
   "id": "dcea7d49-8b4d-48f4-b55b-db75a33a5e55",
   "metadata": {},
   "source": [
    "While production for these titles was present in other countries, the **scope** of the dataset is movies in **English** and are found in the **Netflix movie list in the US**. This limitation may have implications and would limit our analysis to the streaming habits of people in the United States."
   ]
  },
  {
   "cell_type": "markdown",
   "id": "9f34d4af-d989-49cb-920f-a6ab6e70a303",
   "metadata": {},
   "source": [
    "### Data Structure"
   ]
  },
  {
   "cell_type": "markdown",
   "id": "cf6cd1a0-0adb-430e-91f2-50cfd06430a4",
   "metadata": {},
   "source": [
    "The dataset is divided into two files, both used to provide context and one used to summarize how the movie was perceived by the US audience. "
   ]
  },
  {
   "cell_type": "markdown",
   "id": "8c24b02a-863f-4780-92fb-1b723ec27aad",
   "metadata": {},
   "source": [
    "credits.csv contains 77800 rows of information on Actors and Directors of Netflix titles. While titles.csv has 5850 unique titles: each observation describes a movie and its features. \\\n",
    "A detailed list of variables is included in the next section."
   ]
  },
  {
   "cell_type": "markdown",
   "id": "44777728-7410-41d5-b484-eaec227e666d",
   "metadata": {},
   "source": [
    "### Dataset Description"
   ]
  },
  {
   "cell_type": "markdown",
   "id": "07e2378a-2c8b-4c9e-bf45-7b9e58d35b0b",
   "metadata": {},
   "source": [
    "### Tabularized List of Variables"
   ]
  },
  {
   "cell_type": "markdown",
   "id": "02619e22-337b-4d69-99bc-ab8880eb559b",
   "metadata": {},
   "source": [
    "| [titles.csv] **Variable Name** | **Description**                                                              |\n",
    "|--------------------------------|------------------------------------------------------------------------------|\n",
    "| id:                            | The title ID on JustWatch. This is similar to a unique ID                    |\n",
    "| title:                         | The name of the show/movie                                                   |\n",
    "| show_type:                     | If it is a TV show or movie.                                                 |\n",
    "| release_year:                  | The release year                                                             |\n",
    "| age_certification:             | The age certification.                                                       |\n",
    "| runtime:                       | The length per episode if it is a show or the full runtime if it is a movie. |\n",
    "| genres:                        | Genres that describe the show/movie                                          |\n",
    "| production_countries:          | A list of countries that produced the show/movie                             |\n",
    "| seasons:                       | Number of seasons if it's a show                                             |\n",
    "| imdb_id:                       | The title ID on IMDB.                                                        |\n",
    "| imdb_score:                    | Score on IMDB.                                                               |\n",
    "| imdb_votes:                    | Votes on IMDB.                                                               |\n",
    "| tmdb_popularity:               | Popularity on TMDB.                                                          |\n",
    "| tmdb_score:                    | Score on TMDB.                                                               |"
   ]
  },
  {
   "cell_type": "markdown",
   "id": "0a07aa9e-ef9d-47c3-b097-e6bdae958e30",
   "metadata": {},
   "source": [
    "| **[titles.csv] Variable** | **Description**               |\n",
    "|---------------------------|-------------------------------|\n",
    "| person_ID:                | The person ID on JustWatch.   |\n",
    "| id:                       | The title ID on JustWatch.    |\n",
    "| name:                     | The actor or director's name. |\n",
    "| character_name:           | The character name.           |\n",
    "| role:                     | ACTOR or DIRECTOR.            |"
   ]
  },
  {
   "cell_type": "markdown",
   "id": "5e6ce9d5-c9d1-4a7a-8005-c4b7b075fc6f",
   "metadata": {},
   "source": [
    "## I. Exploratory Data Analysis"
   ]
  },
  {
   "cell_type": "markdown",
   "id": "e32838f6-d808-464f-854d-9634e68e4550",
   "metadata": {},
   "source": [
    "### Analysis Questions"
   ]
  },
  {
   "cell_type": "code",
   "execution_count": 1,
   "id": "026a3fb2-707d-456b-877c-13c3daba6c3c",
   "metadata": {},
   "outputs": [],
   "source": [
    "import numpy as np\n",
    "import pandas as pd\n",
    "import matplotlib.pyplot as plt\n",
    "import os\n",
    "import sys \n",
    "import statistics\n",
    "import random\n",
    "from scipy.stats import ttest_ind\n",
    "##sys.path.append(\"RJ\\Desktop\\CSMODEL Jupyter\\Project\")\n",
    "##os.chdir(r'C:\\Users\\RJ\\Desktop\\CSMODEL Jupyter\\Project')\n",
    "%load_ext autoreload\n",
    "%autoreload 2\n",
    "\n",
    "from rule_miner import RuleMiner"
   ]
  },
  {
   "cell_type": "code",
   "execution_count": 2,
   "id": "2528de11-1b9a-410e-8665-60b07bbb1664",
   "metadata": {},
   "outputs": [],
   "source": [
    "nx_df = pd.read_csv(\"titles.csv\")"
   ]
  },
  {
   "cell_type": "code",
   "execution_count": 3,
   "id": "8efdea71-bdd5-49bc-9a77-58a2f149c1b3",
   "metadata": {},
   "outputs": [
    {
     "data": {
      "text/plain": [
       "Index(['id', 'title', 'type', 'description', 'release_year',\n",
       "       'age_certification', 'runtime', 'genres', 'production_countries',\n",
       "       'seasons', 'imdb_id', 'imdb_score', 'imdb_votes', 'tmdb_popularity',\n",
       "       'tmdb_score'],\n",
       "      dtype='object')"
      ]
     },
     "execution_count": 3,
     "metadata": {},
     "output_type": "execute_result"
    }
   ],
   "source": [
    "nx_df.columns"
   ]
  },
  {
   "cell_type": "code",
   "execution_count": 4,
   "id": "d8672957-484a-4c11-98de-abd65ccc9b6c",
   "metadata": {},
   "outputs": [
    {
     "data": {
      "text/plain": [
       "TV-MA    883\n",
       "R        556\n",
       "TV-14    474\n",
       "PG-13    451\n",
       "PG       233\n",
       "TV-PG    188\n",
       "G        124\n",
       "TV-Y7    120\n",
       "TV-Y     107\n",
       "TV-G      79\n",
       "NC-17     16\n",
       "Name: age_certification, dtype: int64"
      ]
     },
     "execution_count": 4,
     "metadata": {},
     "output_type": "execute_result"
    }
   ],
   "source": [
    "nx_df['age_certification'].value_counts()"
   ]
  },
  {
   "cell_type": "markdown",
   "id": "71cf6c9b-02be-4de0-997a-0361341e8964",
   "metadata": {},
   "source": [
    "nx_df[nx_df['production_countries'] == '[]'].sort_values(by = 'imdb_score', ascending = False)"
   ]
  },
  {
   "cell_type": "markdown",
   "id": "c76f1b81-3f11-4e04-b75e-2a4406e56dd5",
   "metadata": {},
   "source": [
    "### 1. On Types of Content"
   ]
  },
  {
   "cell_type": "markdown",
   "id": "00eb4d49-4497-4ae8-bb55-0044aa57db29",
   "metadata": {},
   "source": [
    "#### a. Identify the Yearly increase of Content per Genre"
   ]
  },
  {
   "cell_type": "markdown",
   "id": "a405078f-b65c-41b8-8baf-dfce7e24ed27",
   "metadata": {},
   "source": [
    "Comparison / Distribution of Content Type"
   ]
  },
  {
   "cell_type": "code",
   "execution_count": 5,
   "id": "400700f0-b9ac-4ccd-912d-109b57f2d9a5",
   "metadata": {},
   "outputs": [
    {
     "name": "stdout",
     "output_type": "stream",
     "text": [
      "['SHOW' 'MOVIE']\n"
     ]
    },
    {
     "data": {
      "text/plain": [
       "MOVIE    3744\n",
       "SHOW     2106\n",
       "Name: type, dtype: int64"
      ]
     },
     "execution_count": 5,
     "metadata": {},
     "output_type": "execute_result"
    }
   ],
   "source": [
    "print(nx_df['type'].unique())\n",
    "type_frequency = nx_df['type'].value_counts()\n",
    "type_frequency"
   ]
  },
  {
   "cell_type": "code",
   "execution_count": 6,
   "id": "f5505d58-1852-4d60-92d1-b0bef3cce243",
   "metadata": {},
   "outputs": [
    {
     "data": {
      "text/plain": [
       "Text(0.5, 0.98, 'Increase in Movies')"
      ]
     },
     "execution_count": 6,
     "metadata": {},
     "output_type": "execute_result"
    },
    {
     "data": {
      "image/png": "[encoded data removed]",
      "text/plain": [
       "<Figure size 432x288 with 1 Axes>"
      ]
     },
     "metadata": {
      "needs_background": "light"
     },
     "output_type": "display_data"
    }
   ],
   "source": [
    "# To check the increase in the number of Movies for each year:\n",
    "list_year = sorted(nx_df['release_year'].unique())\n",
    "popular_type = []\n",
    "\n",
    "#Get the count for each year, append to list\n",
    "#[[Year, value]]\n",
    "for year in list_year:\n",
    "    type_count = nx_df.loc[(nx_df['release_year'] == year)]['type'].value_counts()\n",
    "    popular_type.append([year,type_count[0]])\n",
    "\n",
    "popular_type = pd.DataFrame(popular_type, columns=['Year','Count'])\n",
    "\n",
    "#Display list with a bar graph.\n",
    "plt.bar(popular_type['Year'],popular_type['Count'])\n",
    "plt.suptitle('Increase in Movies')"
   ]
  },
  {
   "cell_type": "markdown",
   "id": "38285fd6-4b61-4b90-9128-c2e0e926fc8f",
   "metadata": {},
   "source": [
    "To check for the increase in the number of works **(MOVIES & SERIES)** for each year:"
   ]
  },
  {
   "cell_type": "code",
   "execution_count": 7,
   "id": "b0753c28-d583-4c19-96fa-63efbceb5dc0",
   "metadata": {},
   "outputs": [
    {
     "data": {
      "text/plain": [
       "Text(0.5, 0.98, 'Increase in Works')"
      ]
     },
     "execution_count": 7,
     "metadata": {},
     "output_type": "execute_result"
    },
    {
     "data": {
      "image/png": "[encoded data removed]",
      "text/plain": [
       "<Figure size 432x288 with 1 Axes>"
      ]
     },
     "metadata": {
      "needs_background": "light"
     },
     "output_type": "display_data"
    }
   ],
   "source": [
    "work_count = []\n",
    "\n",
    "#Get the count for each year, append to list\n",
    "#[[Year, value]]\n",
    "for year in list_year:\n",
    "    count = nx_df.loc[(nx_df['release_year'] == year)]['type'].value_counts().sum()\n",
    "    work_count.append([year,count])\n",
    "\n",
    "work_count = pd.DataFrame(work_count, columns=['Year','Count'])\n",
    "\n",
    "#Display list with a bar graph.\n",
    "plt.plot(work_count['Year'],work_count['Count'])\n",
    "plt.suptitle('Increase in Works')"
   ]
  },
  {
   "cell_type": "markdown",
   "id": "e9bd59d0-e81b-49fe-bace-57076c1133af",
   "metadata": {},
   "source": [
    "**Notice:** Same shape as the previous one. however, the maximum height has increased from 500 to 800. Notable spike drop during 2020."
   ]
  },
  {
   "cell_type": "markdown",
   "id": "d99ea686-9970-43ce-b2ed-f430ea72eed0",
   "metadata": {},
   "source": [
    "### 2. Age Certification"
   ]
  },
  {
   "cell_type": "markdown",
   "id": "4af4edd7-b919-482d-b091-50650a7966fb",
   "metadata": {
    "tags": []
   },
   "source": [
    "What is the reason for the nan values? \n",
    "- Unrated films/series\n",
    "- Old Unapplicable standards to new movies. "
   ]
  },
  {
   "cell_type": "markdown",
   "id": "221c4b04-53ef-43f4-8ad0-704ef36a0836",
   "metadata": {},
   "source": [
    "**Notice:** Upon checking the age certification we see a lot of nan values. "
   ]
  },
  {
   "cell_type": "code",
   "execution_count": 8,
   "id": "5c22e2e6-620d-4e5e-82f5-0bfba152221b",
   "metadata": {},
   "outputs": [
    {
     "data": {
      "text/plain": [
       "(2619, 15)"
      ]
     },
     "execution_count": 8,
     "metadata": {},
     "output_type": "execute_result"
    }
   ],
   "source": [
    "nx_df[nx_df['age_certification'].isna()].shape"
   ]
  },
  {
   "cell_type": "markdown",
   "id": "8150a4f9-2017-4905-a39b-1c56ffb4f2c4",
   "metadata": {
    "tags": []
   },
   "source": [
    "#### Data Cleaning\n"
   ]
  },
  {
   "cell_type": "markdown",
   "id": "bdc44a51-6f57-4327-a2d8-8da6dd88d2a6",
   "metadata": {},
   "source": [
    "Checking the data, we see that there are \\\n",
    " a) multiple nan values and \\\n",
    " b) multiple representations (PG and TV-PG, G and TV-PG)"
   ]
  },
  {
   "cell_type": "code",
   "execution_count": 9,
   "id": "d96f5a59-5733-4662-9346-3867e079bf97",
   "metadata": {},
   "outputs": [],
   "source": [
    "## Show the NANS for Age Representation"
   ]
  },
  {
   "cell_type": "markdown",
   "id": "b395db5f-e2e9-483c-b7c0-e6ca71aa7c50",
   "metadata": {},
   "source": [
    "To clean the data, we will set a default value for **nan** and map our multiple representations."
   ]
  },
  {
   "cell_type": "code",
   "execution_count": 10,
   "id": "b418fc10-39ae-41a1-abab-4d7e4c9b8b22",
   "metadata": {},
   "outputs": [],
   "source": [
    "# Create a new dataset based on nx_Df.\n",
    "test_nx = nx_df.copy()\n",
    "\n",
    "#Replace nans of age_restriction with Unrated.\n",
    "test_nx.loc[test_nx['age_certification'].isnull(),'age_certification'] = \"Unrated\"\n",
    "\n",
    "#Combine PG % TV-PG and G counterparts.\n",
    "test_nx['age_certification'] = test_nx['age_certification'].replace({ 'PG':'TV-PG', 'G' : 'TV-G' })"
   ]
  },
  {
   "cell_type": "markdown",
   "id": "55276b9e-c1bc-4e4a-a179-98d38013f79a",
   "metadata": {},
   "source": [
    "**After cleaning, count the observations for each age classification per year.**"
   ]
  },
  {
   "cell_type": "code",
   "execution_count": 11,
   "id": "222818fb-505e-48da-b662-3a15d08c2bd0",
   "metadata": {},
   "outputs": [
    {
     "data": {
      "text/html": [
       "<div>\n",
       "<style scoped>\n",
       "    .dataframe tbody tr th:only-of-type {\n",
       "        vertical-align: middle;\n",
       "    }\n",
       "\n",
       "    .dataframe tbody tr th {\n",
       "        vertical-align: top;\n",
       "    }\n",
       "\n",
       "    .dataframe thead th {\n",
       "        text-align: right;\n",
       "    }\n",
       "</style>\n",
       "<table border=\"1\" class=\"dataframe\">\n",
       "  <thead>\n",
       "    <tr style=\"text-align: right;\">\n",
       "      <th></th>\n",
       "      <th>TV-MA</th>\n",
       "      <th>R</th>\n",
       "      <th>TV-PG</th>\n",
       "      <th>Unrated</th>\n",
       "      <th>TV-14</th>\n",
       "      <th>PG-13</th>\n",
       "      <th>TV-Y</th>\n",
       "      <th>TV-G</th>\n",
       "      <th>TV-Y7</th>\n",
       "      <th>NC-17</th>\n",
       "    </tr>\n",
       "  </thead>\n",
       "  <tbody>\n",
       "    <tr>\n",
       "      <th>1945</th>\n",
       "      <td>1</td>\n",
       "      <td>0</td>\n",
       "      <td>0</td>\n",
       "      <td>0</td>\n",
       "      <td>0</td>\n",
       "      <td>0</td>\n",
       "      <td>0</td>\n",
       "      <td>0</td>\n",
       "      <td>0</td>\n",
       "      <td>0</td>\n",
       "    </tr>\n",
       "    <tr>\n",
       "      <th>1954</th>\n",
       "      <td>0</td>\n",
       "      <td>0</td>\n",
       "      <td>0</td>\n",
       "      <td>2</td>\n",
       "      <td>0</td>\n",
       "      <td>0</td>\n",
       "      <td>0</td>\n",
       "      <td>0</td>\n",
       "      <td>0</td>\n",
       "      <td>0</td>\n",
       "    </tr>\n",
       "    <tr>\n",
       "      <th>1956</th>\n",
       "      <td>0</td>\n",
       "      <td>0</td>\n",
       "      <td>0</td>\n",
       "      <td>1</td>\n",
       "      <td>0</td>\n",
       "      <td>0</td>\n",
       "      <td>0</td>\n",
       "      <td>0</td>\n",
       "      <td>0</td>\n",
       "      <td>0</td>\n",
       "    </tr>\n",
       "    <tr>\n",
       "      <th>1958</th>\n",
       "      <td>0</td>\n",
       "      <td>0</td>\n",
       "      <td>0</td>\n",
       "      <td>1</td>\n",
       "      <td>0</td>\n",
       "      <td>0</td>\n",
       "      <td>0</td>\n",
       "      <td>0</td>\n",
       "      <td>0</td>\n",
       "      <td>0</td>\n",
       "    </tr>\n",
       "    <tr>\n",
       "      <th>1959</th>\n",
       "      <td>0</td>\n",
       "      <td>0</td>\n",
       "      <td>0</td>\n",
       "      <td>1</td>\n",
       "      <td>0</td>\n",
       "      <td>0</td>\n",
       "      <td>0</td>\n",
       "      <td>0</td>\n",
       "      <td>0</td>\n",
       "      <td>0</td>\n",
       "    </tr>\n",
       "    <tr>\n",
       "      <th>...</th>\n",
       "      <td>...</td>\n",
       "      <td>...</td>\n",
       "      <td>...</td>\n",
       "      <td>...</td>\n",
       "      <td>...</td>\n",
       "      <td>...</td>\n",
       "      <td>...</td>\n",
       "      <td>...</td>\n",
       "      <td>...</td>\n",
       "      <td>...</td>\n",
       "    </tr>\n",
       "    <tr>\n",
       "      <th>2018</th>\n",
       "      <td>130</td>\n",
       "      <td>76</td>\n",
       "      <td>56</td>\n",
       "      <td>349</td>\n",
       "      <td>52</td>\n",
       "      <td>40</td>\n",
       "      <td>20</td>\n",
       "      <td>25</td>\n",
       "      <td>22</td>\n",
       "      <td>3</td>\n",
       "    </tr>\n",
       "    <tr>\n",
       "      <th>2019</th>\n",
       "      <td>148</td>\n",
       "      <td>47</td>\n",
       "      <td>48</td>\n",
       "      <td>456</td>\n",
       "      <td>53</td>\n",
       "      <td>42</td>\n",
       "      <td>8</td>\n",
       "      <td>20</td>\n",
       "      <td>13</td>\n",
       "      <td>1</td>\n",
       "    </tr>\n",
       "    <tr>\n",
       "      <th>2020</th>\n",
       "      <td>149</td>\n",
       "      <td>62</td>\n",
       "      <td>49</td>\n",
       "      <td>406</td>\n",
       "      <td>56</td>\n",
       "      <td>39</td>\n",
       "      <td>14</td>\n",
       "      <td>28</td>\n",
       "      <td>9</td>\n",
       "      <td>2</td>\n",
       "    </tr>\n",
       "    <tr>\n",
       "      <th>2021</th>\n",
       "      <td>150</td>\n",
       "      <td>79</td>\n",
       "      <td>47</td>\n",
       "      <td>360</td>\n",
       "      <td>66</td>\n",
       "      <td>44</td>\n",
       "      <td>12</td>\n",
       "      <td>16</td>\n",
       "      <td>12</td>\n",
       "      <td>1</td>\n",
       "    </tr>\n",
       "    <tr>\n",
       "      <th>2022</th>\n",
       "      <td>100</td>\n",
       "      <td>35</td>\n",
       "      <td>19</td>\n",
       "      <td>142</td>\n",
       "      <td>31</td>\n",
       "      <td>23</td>\n",
       "      <td>7</td>\n",
       "      <td>5</td>\n",
       "      <td>8</td>\n",
       "      <td>1</td>\n",
       "    </tr>\n",
       "  </tbody>\n",
       "</table>\n",
       "<p>63 rows × 10 columns</p>\n",
       "</div>"
      ],
      "text/plain": [
       "      TV-MA   R  TV-PG  Unrated  TV-14  PG-13  TV-Y  TV-G  TV-Y7  NC-17\n",
       "1945      1   0      0        0      0      0     0     0      0      0\n",
       "1954      0   0      0        2      0      0     0     0      0      0\n",
       "1956      0   0      0        1      0      0     0     0      0      0\n",
       "1958      0   0      0        1      0      0     0     0      0      0\n",
       "1959      0   0      0        1      0      0     0     0      0      0\n",
       "...     ...  ..    ...      ...    ...    ...   ...   ...    ...    ...\n",
       "2018    130  76     56      349     52     40    20    25     22      3\n",
       "2019    148  47     48      456     53     42     8    20     13      1\n",
       "2020    149  62     49      406     56     39    14    28      9      2\n",
       "2021    150  79     47      360     66     44    12    16     12      1\n",
       "2022    100  35     19      142     31     23     7     5      8      1\n",
       "\n",
       "[63 rows x 10 columns]"
      ]
     },
     "execution_count": 11,
     "metadata": {},
     "output_type": "execute_result"
    }
   ],
   "source": [
    "test_dict = {}\n",
    "test_list = []\n",
    "certification_types = list(test_nx['age_certification'].unique())\n",
    "\n",
    "for year in list_year:\n",
    "    for certification in certification_types: \n",
    "        count = test_nx.loc[(test_nx['release_year'] == year) & (test_nx['age_certification'] == certification)].shape[0]\n",
    "        test_list.append(count)\n",
    "    test_dict[year] = test_list.copy()\n",
    "    test_list.clear()\n",
    "\n",
    "test_df = pd.DataFrame(test_dict).transpose()\n",
    "test_df.columns = certification_types\n",
    "test_df"
   ]
  },
  {
   "cell_type": "markdown",
   "id": "522e0964-73e0-4ca1-93e9-c43fb81b4d12",
   "metadata": {
    "tags": []
   },
   "source": [
    "#### b. Visualize the frequency of content in different age certifications.  \n",
    "From each age_certification we can generate the graph visualization to show its increase in frequency over time."
   ]
  },
  {
   "cell_type": "markdown",
   "id": "49ca00a0-40a1-47e2-9526-71a70dbed137",
   "metadata": {},
   "source": [
    "**DISCLAIMER:** The start of year was moved from 1945 to 2005 to provide a better visualization in the gradual increase in content."
   ]
  },
  {
   "cell_type": "code",
   "execution_count": 12,
   "id": "af1cbc94-47b6-47e6-bbac-1977615c0718",
   "metadata": {},
   "outputs": [
    {
     "data": {
      "image/png": "[encoded data removed]",
      "text/plain": [
       "<Figure size 432x288 with 1 Axes>"
      ]
     },
     "metadata": {
      "needs_background": "light"
     },
     "output_type": "display_data"
    },
    {
     "data": {
      "image/png": "[encoded data removed]",
      "text/plain": [
       "<Figure size 432x288 with 1 Axes>"
      ]
     },
     "metadata": {
      "needs_background": "light"
     },
     "output_type": "display_data"
    },
    {
     "data": {
      "image/png": "[encoded data removed]",
      "text/plain": [
       "<Figure size 432x288 with 1 Axes>"
      ]
     },
     "metadata": {
      "needs_background": "light"
     },
     "output_type": "display_data"
    },
    {
     "data": {
      "image/png": "[encoded data removed]",
      "text/plain": [
       "<Figure size 432x288 with 1 Axes>"
      ]
     },
     "metadata": {
      "needs_background": "light"
     },
     "output_type": "display_data"
    },
    {
     "data": {
      "image/png": "[encoded data removed]",
      "text/plain": [
       "<Figure size 432x288 with 1 Axes>"
      ]
     },
     "metadata": {
      "needs_background": "light"
     },
     "output_type": "display_data"
    },
    {
     "data": {
      "image/png": "[encoded data removed]",
      "text/plain": [
       "<Figure size 432x288 with 1 Axes>"
      ]
     },
     "metadata": {
      "needs_background": "light"
     },
     "output_type": "display_data"
    },
    {
     "data": {
      "image/png": "[encoded data removed]",
      "text/plain": [
       "<Figure size 432x288 with 1 Axes>"
      ]
     },
     "metadata": {
      "needs_background": "light"
     },
     "output_type": "display_data"
    },
    {
     "data": {
      "image/png": "[encoded data removed]",
      "text/plain": [
       "<Figure size 432x288 with 1 Axes>"
      ]
     },
     "metadata": {
      "needs_background": "light"
     },
     "output_type": "display_data"
    },
    {
     "data": {
      "image/png": "[encoded data removed]",
      "text/plain": [
       "<Figure size 432x288 with 1 Axes>"
      ]
     },
     "metadata": {
      "needs_background": "light"
     },
     "output_type": "display_data"
    },
    {
     "data": {
      "image/png": "[encoded data removed]",
      "text/plain": [
       "<Figure size 432x288 with 1 Axes>"
      ]
     },
     "metadata": {
      "needs_background": "light"
     },
     "output_type": "display_data"
    }
   ],
   "source": [
    "for certification in certification_types: \n",
    "    test2_df = test_df[(test_df.index > 2005)][certification]\n",
    "    plt.figure()\n",
    "    plt.plot(test2_df)\n",
    "    plt.xlabel('Year')\n",
    "    plt.ylabel('Frequency')\n",
    "    plt.suptitle(certification)\n",
    "    plt.show()"
   ]
  },
  {
   "cell_type": "markdown",
   "id": "acb3f7f4-d98a-4c3f-8e6e-5170f8a930f4",
   "metadata": {},
   "source": [
    "All certifications aside from NC-17 displays an uptick in the years after 2014. Additionally, a common reocurrence is the sudden decrease in content produced at the start of the pandemic (2020)."
   ]
  },
  {
   "cell_type": "markdown",
   "id": "e66244d1-c083-42d5-8503-c7cdce5dd229",
   "metadata": {},
   "source": [
    "### 3. Credits Dataset"
   ]
  },
  {
   "cell_type": "markdown",
   "id": "5f608659",
   "metadata": {},
   "source": [
    "The Credits Dataset consist of the Actors and the Director of the shows and movies featured in the titles.csv dataset the id variable can be used to identify the movie or show the person is featured in."
   ]
  },
  {
   "cell_type": "code",
   "execution_count": 13,
   "id": "bc1d9622-4c50-4ea1-a92f-3e22d2ad50d4",
   "metadata": {},
   "outputs": [
    {
     "data": {
      "text/html": [
       "<div>\n",
       "<style scoped>\n",
       "    .dataframe tbody tr th:only-of-type {\n",
       "        vertical-align: middle;\n",
       "    }\n",
       "\n",
       "    .dataframe tbody tr th {\n",
       "        vertical-align: top;\n",
       "    }\n",
       "\n",
       "    .dataframe thead th {\n",
       "        text-align: right;\n",
       "    }\n",
       "</style>\n",
       "<table border=\"1\" class=\"dataframe\">\n",
       "  <thead>\n",
       "    <tr style=\"text-align: right;\">\n",
       "      <th></th>\n",
       "      <th>person_id</th>\n",
       "      <th>id</th>\n",
       "      <th>name</th>\n",
       "      <th>character</th>\n",
       "      <th>role</th>\n",
       "    </tr>\n",
       "  </thead>\n",
       "  <tbody>\n",
       "    <tr>\n",
       "      <th>0</th>\n",
       "      <td>3748</td>\n",
       "      <td>tm84618</td>\n",
       "      <td>Robert De Niro</td>\n",
       "      <td>Travis Bickle</td>\n",
       "      <td>ACTOR</td>\n",
       "    </tr>\n",
       "    <tr>\n",
       "      <th>1</th>\n",
       "      <td>14658</td>\n",
       "      <td>tm84618</td>\n",
       "      <td>Jodie Foster</td>\n",
       "      <td>Iris Steensma</td>\n",
       "      <td>ACTOR</td>\n",
       "    </tr>\n",
       "    <tr>\n",
       "      <th>2</th>\n",
       "      <td>7064</td>\n",
       "      <td>tm84618</td>\n",
       "      <td>Albert Brooks</td>\n",
       "      <td>Tom</td>\n",
       "      <td>ACTOR</td>\n",
       "    </tr>\n",
       "    <tr>\n",
       "      <th>3</th>\n",
       "      <td>3739</td>\n",
       "      <td>tm84618</td>\n",
       "      <td>Harvey Keitel</td>\n",
       "      <td>Matthew 'Sport' Higgins</td>\n",
       "      <td>ACTOR</td>\n",
       "    </tr>\n",
       "    <tr>\n",
       "      <th>4</th>\n",
       "      <td>48933</td>\n",
       "      <td>tm84618</td>\n",
       "      <td>Cybill Shepherd</td>\n",
       "      <td>Betsy</td>\n",
       "      <td>ACTOR</td>\n",
       "    </tr>\n",
       "    <tr>\n",
       "      <th>...</th>\n",
       "      <td>...</td>\n",
       "      <td>...</td>\n",
       "      <td>...</td>\n",
       "      <td>...</td>\n",
       "      <td>...</td>\n",
       "    </tr>\n",
       "    <tr>\n",
       "      <th>77796</th>\n",
       "      <td>736339</td>\n",
       "      <td>tm1059008</td>\n",
       "      <td>Adelaida Buscato</td>\n",
       "      <td>María Paz</td>\n",
       "      <td>ACTOR</td>\n",
       "    </tr>\n",
       "    <tr>\n",
       "      <th>77797</th>\n",
       "      <td>399499</td>\n",
       "      <td>tm1059008</td>\n",
       "      <td>Luz Stella Luengas</td>\n",
       "      <td>Karen Bayona</td>\n",
       "      <td>ACTOR</td>\n",
       "    </tr>\n",
       "    <tr>\n",
       "      <th>77798</th>\n",
       "      <td>373198</td>\n",
       "      <td>tm1059008</td>\n",
       "      <td>Inés Prieto</td>\n",
       "      <td>Fanny</td>\n",
       "      <td>ACTOR</td>\n",
       "    </tr>\n",
       "    <tr>\n",
       "      <th>77799</th>\n",
       "      <td>378132</td>\n",
       "      <td>tm1059008</td>\n",
       "      <td>Isabel Gaona</td>\n",
       "      <td>Cacica</td>\n",
       "      <td>ACTOR</td>\n",
       "    </tr>\n",
       "    <tr>\n",
       "      <th>77800</th>\n",
       "      <td>1950416</td>\n",
       "      <td>tm1059008</td>\n",
       "      <td>Julian Gaviria</td>\n",
       "      <td>NaN</td>\n",
       "      <td>DIRECTOR</td>\n",
       "    </tr>\n",
       "  </tbody>\n",
       "</table>\n",
       "<p>77801 rows × 5 columns</p>\n",
       "</div>"
      ],
      "text/plain": [
       "       person_id         id                name                character  \\\n",
       "0           3748    tm84618      Robert De Niro            Travis Bickle   \n",
       "1          14658    tm84618        Jodie Foster            Iris Steensma   \n",
       "2           7064    tm84618       Albert Brooks                      Tom   \n",
       "3           3739    tm84618       Harvey Keitel  Matthew 'Sport' Higgins   \n",
       "4          48933    tm84618     Cybill Shepherd                    Betsy   \n",
       "...          ...        ...                 ...                      ...   \n",
       "77796     736339  tm1059008    Adelaida Buscato                María Paz   \n",
       "77797     399499  tm1059008  Luz Stella Luengas             Karen Bayona   \n",
       "77798     373198  tm1059008         Inés Prieto                    Fanny   \n",
       "77799     378132  tm1059008        Isabel Gaona                   Cacica   \n",
       "77800    1950416  tm1059008      Julian Gaviria                      NaN   \n",
       "\n",
       "           role  \n",
       "0         ACTOR  \n",
       "1         ACTOR  \n",
       "2         ACTOR  \n",
       "3         ACTOR  \n",
       "4         ACTOR  \n",
       "...         ...  \n",
       "77796     ACTOR  \n",
       "77797     ACTOR  \n",
       "77798     ACTOR  \n",
       "77799     ACTOR  \n",
       "77800  DIRECTOR  \n",
       "\n",
       "[77801 rows x 5 columns]"
      ]
     },
     "execution_count": 13,
     "metadata": {},
     "output_type": "execute_result"
    }
   ],
   "source": [
    "credits_df = pd.read_csv(\"credits.csv\")\n",
    "credits_df"
   ]
  },
  {
   "cell_type": "markdown",
   "id": "d089d699-16b0-4fe2-a09c-44fc33cec9f5",
   "metadata": {},
   "source": [
    "#### c. Actors on Popular Films"
   ]
  },
  {
   "cell_type": "markdown",
   "id": "c466f230-41ca-43b1-80b4-d0a261fd277c",
   "metadata": {},
   "source": [
    "1. List the names of Actors who have appeared atleast twice in the Top 20 most popular movies. "
   ]
  },
  {
   "cell_type": "markdown",
   "id": "0cfe37f6",
   "metadata": {},
   "source": [
    "This part first sort the movies in nx_df based on their popularity. head(20) is used to get the top 20 most popular movies in the dataset.\n",
    "The ids of these movies was then put into a list named ``top_MovieID``\n",
    "Using the ``top_MovieID``, we can filter out the credits whose film id is present in the top 20. After the desired set is obtained, the set is further filtered to only get those with the `ACTOR` role. This is done so that we can only see the Actors featured in the top 20 films.\n",
    "With the `top_artists` already found, we will now find any duplicates, to find if a specific artists is featured in more the one films in the top 20."
   ]
  },
  {
   "cell_type": "code",
   "execution_count": 14,
   "id": "42e70a4d-3c62-432b-8799-64acc393504c",
   "metadata": {},
   "outputs": [
    {
     "data": {
      "text/html": [
       "<div>\n",
       "<style scoped>\n",
       "    .dataframe tbody tr th:only-of-type {\n",
       "        vertical-align: middle;\n",
       "    }\n",
       "\n",
       "    .dataframe tbody tr th {\n",
       "        vertical-align: top;\n",
       "    }\n",
       "\n",
       "    .dataframe thead th {\n",
       "        text-align: right;\n",
       "    }\n",
       "</style>\n",
       "<table border=\"1\" class=\"dataframe\">\n",
       "  <thead>\n",
       "    <tr style=\"text-align: right;\">\n",
       "      <th></th>\n",
       "      <th>id</th>\n",
       "      <th>title</th>\n",
       "      <th>type</th>\n",
       "      <th>description</th>\n",
       "      <th>release_year</th>\n",
       "      <th>age_certification</th>\n",
       "      <th>runtime</th>\n",
       "      <th>genres</th>\n",
       "      <th>production_countries</th>\n",
       "      <th>seasons</th>\n",
       "      <th>imdb_id</th>\n",
       "      <th>imdb_score</th>\n",
       "      <th>imdb_votes</th>\n",
       "      <th>tmdb_popularity</th>\n",
       "      <th>tmdb_score</th>\n",
       "    </tr>\n",
       "  </thead>\n",
       "  <tbody>\n",
       "    <tr>\n",
       "      <th>4707</th>\n",
       "      <td>tm1143265</td>\n",
       "      <td>Incantation</td>\n",
       "      <td>MOVIE</td>\n",
       "      <td>Inspired by a true story of a family who belie...</td>\n",
       "      <td>2022</td>\n",
       "      <td>NaN</td>\n",
       "      <td>111</td>\n",
       "      <td>['horror']</td>\n",
       "      <td>['TW']</td>\n",
       "      <td>NaN</td>\n",
       "      <td>tt18968540</td>\n",
       "      <td>6.2</td>\n",
       "      <td>5660.0</td>\n",
       "      <td>2274.044</td>\n",
       "      <td>7.400</td>\n",
       "    </tr>\n",
       "    <tr>\n",
       "      <th>1123</th>\n",
       "      <td>ts38796</td>\n",
       "      <td>Stranger Things</td>\n",
       "      <td>SHOW</td>\n",
       "      <td>When a young boy vanishes, a small town uncove...</td>\n",
       "      <td>2016</td>\n",
       "      <td>TV-14</td>\n",
       "      <td>61</td>\n",
       "      <td>['scifi', 'thriller', 'drama', 'fantasy', 'hor...</td>\n",
       "      <td>['US']</td>\n",
       "      <td>5.0</td>\n",
       "      <td>tt4574334</td>\n",
       "      <td>8.7</td>\n",
       "      <td>1101055.0</td>\n",
       "      <td>2226.231</td>\n",
       "      <td>8.635</td>\n",
       "    </tr>\n",
       "    <tr>\n",
       "      <th>4702</th>\n",
       "      <td>tm1067148</td>\n",
       "      <td>The Sea Beast</td>\n",
       "      <td>MOVIE</td>\n",
       "      <td>When a young girl stows away on the ship of a ...</td>\n",
       "      <td>2022</td>\n",
       "      <td>PG</td>\n",
       "      <td>115</td>\n",
       "      <td>['comedy', 'family', 'fantasy', 'scifi', 'anim...</td>\n",
       "      <td>['US']</td>\n",
       "      <td>NaN</td>\n",
       "      <td>tt9288046</td>\n",
       "      <td>7.1</td>\n",
       "      <td>18852.0</td>\n",
       "      <td>1723.363</td>\n",
       "      <td>7.634</td>\n",
       "    </tr>\n",
       "    <tr>\n",
       "      <th>4714</th>\n",
       "      <td>tm928497</td>\n",
       "      <td>Valley of the Dead</td>\n",
       "      <td>MOVIE</td>\n",
       "      <td>They're soldiers on different sides of the war...</td>\n",
       "      <td>2022</td>\n",
       "      <td>R</td>\n",
       "      <td>101</td>\n",
       "      <td>['comedy', 'horror', 'war', 'fantasy', 'thrill...</td>\n",
       "      <td>['ES']</td>\n",
       "      <td>NaN</td>\n",
       "      <td>tt10127708</td>\n",
       "      <td>6.5</td>\n",
       "      <td>114.0</td>\n",
       "      <td>1668.296</td>\n",
       "      <td>6.303</td>\n",
       "    </tr>\n",
       "    <tr>\n",
       "      <th>4696</th>\n",
       "      <td>tm852360</td>\n",
       "      <td>The Man from Toronto</td>\n",
       "      <td>MOVIE</td>\n",
       "      <td>In a case of mistaken identity, the world’s de...</td>\n",
       "      <td>2022</td>\n",
       "      <td>PG-13</td>\n",
       "      <td>110</td>\n",
       "      <td>['action', 'thriller', 'drama', 'romance', 'co...</td>\n",
       "      <td>['US']</td>\n",
       "      <td>NaN</td>\n",
       "      <td>tt11671006</td>\n",
       "      <td>5.8</td>\n",
       "      <td>31497.0</td>\n",
       "      <td>1439.906</td>\n",
       "      <td>6.449</td>\n",
       "    </tr>\n",
       "    <tr>\n",
       "      <th>4693</th>\n",
       "      <td>ts252861</td>\n",
       "      <td>Resident Evil</td>\n",
       "      <td>SHOW</td>\n",
       "      <td>Nearly three decades after the discovery of th...</td>\n",
       "      <td>2022</td>\n",
       "      <td>TV-MA</td>\n",
       "      <td>51</td>\n",
       "      <td>['scifi', 'thriller', 'action', 'horror']</td>\n",
       "      <td>['US']</td>\n",
       "      <td>1.0</td>\n",
       "      <td>tt9660182</td>\n",
       "      <td>3.7</td>\n",
       "      <td>24982.0</td>\n",
       "      <td>1387.392</td>\n",
       "      <td>5.956</td>\n",
       "    </tr>\n",
       "    <tr>\n",
       "      <th>5059</th>\n",
       "      <td>tm1210379</td>\n",
       "      <td>Collision</td>\n",
       "      <td>MOVIE</td>\n",
       "      <td>Over the course of one fateful day, a corrupt ...</td>\n",
       "      <td>2022</td>\n",
       "      <td>NaN</td>\n",
       "      <td>99</td>\n",
       "      <td>['drama', 'crime', 'thriller']</td>\n",
       "      <td>['ZA']</td>\n",
       "      <td>NaN</td>\n",
       "      <td>tt10809742</td>\n",
       "      <td>3.9</td>\n",
       "      <td>886.0</td>\n",
       "      <td>1194.149</td>\n",
       "      <td>5.946</td>\n",
       "    </tr>\n",
       "    <tr>\n",
       "      <th>833</th>\n",
       "      <td>ts20110</td>\n",
       "      <td>Peaky Blinders</td>\n",
       "      <td>SHOW</td>\n",
       "      <td>A gangster family epic set in 1919 Birmingham,...</td>\n",
       "      <td>2013</td>\n",
       "      <td>TV-MA</td>\n",
       "      <td>58</td>\n",
       "      <td>['crime', 'drama', 'european']</td>\n",
       "      <td>['GB']</td>\n",
       "      <td>6.0</td>\n",
       "      <td>tt2442560</td>\n",
       "      <td>8.8</td>\n",
       "      <td>511668.0</td>\n",
       "      <td>1038.077</td>\n",
       "      <td>8.558</td>\n",
       "    </tr>\n",
       "    <tr>\n",
       "      <th>4699</th>\n",
       "      <td>tm1020438</td>\n",
       "      <td>Spiderhead</td>\n",
       "      <td>MOVIE</td>\n",
       "      <td>In the near future, convicts are offered the c...</td>\n",
       "      <td>2022</td>\n",
       "      <td>R</td>\n",
       "      <td>106</td>\n",
       "      <td>['scifi', 'thriller', 'drama', 'action', 'crime']</td>\n",
       "      <td>['US']</td>\n",
       "      <td>NaN</td>\n",
       "      <td>tt9783600</td>\n",
       "      <td>5.4</td>\n",
       "      <td>43239.0</td>\n",
       "      <td>996.869</td>\n",
       "      <td>5.800</td>\n",
       "    </tr>\n",
       "    <tr>\n",
       "      <th>1136</th>\n",
       "      <td>ts36147</td>\n",
       "      <td>Lucifer</td>\n",
       "      <td>SHOW</td>\n",
       "      <td>Bored and unhappy as the Lord of Hell, Lucifer...</td>\n",
       "      <td>2016</td>\n",
       "      <td>TV-14</td>\n",
       "      <td>47</td>\n",
       "      <td>['scifi', 'crime', 'drama', 'fantasy']</td>\n",
       "      <td>['US']</td>\n",
       "      <td>6.0</td>\n",
       "      <td>tt4052886</td>\n",
       "      <td>8.1</td>\n",
       "      <td>313124.0</td>\n",
       "      <td>922.112</td>\n",
       "      <td>8.523</td>\n",
       "    </tr>\n",
       "    <tr>\n",
       "      <th>4720</th>\n",
       "      <td>ts271437</td>\n",
       "      <td>Money Heist (Korean Remake)</td>\n",
       "      <td>SHOW</td>\n",
       "      <td>A story of genius strategists and robbers with...</td>\n",
       "      <td>2022</td>\n",
       "      <td>TV-MA</td>\n",
       "      <td>70</td>\n",
       "      <td>['action', 'drama', 'thriller', 'crime']</td>\n",
       "      <td>['KR']</td>\n",
       "      <td>1.0</td>\n",
       "      <td>tt13696452</td>\n",
       "      <td>5.2</td>\n",
       "      <td>5142.0</td>\n",
       "      <td>904.326</td>\n",
       "      <td>7.998</td>\n",
       "    </tr>\n",
       "    <tr>\n",
       "      <th>227</th>\n",
       "      <td>ts21469</td>\n",
       "      <td>Grey's Anatomy</td>\n",
       "      <td>SHOW</td>\n",
       "      <td>Follows the personal and professional lives of...</td>\n",
       "      <td>2005</td>\n",
       "      <td>TV-14</td>\n",
       "      <td>49</td>\n",
       "      <td>['drama', 'romance']</td>\n",
       "      <td>['US']</td>\n",
       "      <td>19.0</td>\n",
       "      <td>tt0413573</td>\n",
       "      <td>7.6</td>\n",
       "      <td>299165.0</td>\n",
       "      <td>803.786</td>\n",
       "      <td>8.252</td>\n",
       "    </tr>\n",
       "    <tr>\n",
       "      <th>4698</th>\n",
       "      <td>tm1126268</td>\n",
       "      <td>Hustle</td>\n",
       "      <td>MOVIE</td>\n",
       "      <td>A basketball scout discovers a phenomenal stre...</td>\n",
       "      <td>2022</td>\n",
       "      <td>R</td>\n",
       "      <td>117</td>\n",
       "      <td>['drama', 'sport', 'comedy']</td>\n",
       "      <td>['US']</td>\n",
       "      <td>NaN</td>\n",
       "      <td>tt8009428</td>\n",
       "      <td>7.4</td>\n",
       "      <td>89770.0</td>\n",
       "      <td>746.928</td>\n",
       "      <td>7.900</td>\n",
       "    </tr>\n",
       "    <tr>\n",
       "      <th>5190</th>\n",
       "      <td>ts307745</td>\n",
       "      <td>Money Heist: From Tokyo to Berlin</td>\n",
       "      <td>SHOW</td>\n",
       "      <td>The filmmakers and actors behind \"Money Heist\"...</td>\n",
       "      <td>2021</td>\n",
       "      <td>TV-MA</td>\n",
       "      <td>53</td>\n",
       "      <td>['documentation', 'crime', 'drama']</td>\n",
       "      <td>['ES']</td>\n",
       "      <td>2.0</td>\n",
       "      <td>tt15384346</td>\n",
       "      <td>7.7</td>\n",
       "      <td>890.0</td>\n",
       "      <td>712.899</td>\n",
       "      <td>7.391</td>\n",
       "    </tr>\n",
       "    <tr>\n",
       "      <th>4746</th>\n",
       "      <td>ts302437</td>\n",
       "      <td>Kung Fu Panda: The Dragon Knight</td>\n",
       "      <td>SHOW</td>\n",
       "      <td>Follow the adventures of Po, who partners up w...</td>\n",
       "      <td>2022</td>\n",
       "      <td>TV-Y7</td>\n",
       "      <td>24</td>\n",
       "      <td>['action', 'animation', 'family', 'fantasy', '...</td>\n",
       "      <td>['US']</td>\n",
       "      <td>1.0</td>\n",
       "      <td>tt18783984</td>\n",
       "      <td>5.9</td>\n",
       "      <td>742.0</td>\n",
       "      <td>656.832</td>\n",
       "      <td>7.500</td>\n",
       "    </tr>\n",
       "    <tr>\n",
       "      <th>218</th>\n",
       "      <td>ts9</td>\n",
       "      <td>The Walking Dead</td>\n",
       "      <td>SHOW</td>\n",
       "      <td>Sheriff's deputy Rick Grimes awakens from a co...</td>\n",
       "      <td>2010</td>\n",
       "      <td>TV-MA</td>\n",
       "      <td>46</td>\n",
       "      <td>['action', 'drama', 'scifi', 'horror', 'thrill...</td>\n",
       "      <td>['US']</td>\n",
       "      <td>11.0</td>\n",
       "      <td>tt1520211</td>\n",
       "      <td>8.2</td>\n",
       "      <td>956604.0</td>\n",
       "      <td>597.277</td>\n",
       "      <td>8.100</td>\n",
       "    </tr>\n",
       "    <tr>\n",
       "      <th>4734</th>\n",
       "      <td>tm1221677</td>\n",
       "      <td>Hello, Goodbye, and Everything in Between</td>\n",
       "      <td>MOVIE</td>\n",
       "      <td>Clare and Aidan, who after making a pact that ...</td>\n",
       "      <td>2022</td>\n",
       "      <td>PG-13</td>\n",
       "      <td>83</td>\n",
       "      <td>['drama', 'comedy', 'romance']</td>\n",
       "      <td>['US']</td>\n",
       "      <td>NaN</td>\n",
       "      <td>tt4181158</td>\n",
       "      <td>4.9</td>\n",
       "      <td>1842.0</td>\n",
       "      <td>564.004</td>\n",
       "      <td>5.965</td>\n",
       "    </tr>\n",
       "    <tr>\n",
       "      <th>4878</th>\n",
       "      <td>tm1227918</td>\n",
       "      <td>Under the Amalfi Sun</td>\n",
       "      <td>MOVIE</td>\n",
       "      <td>A year after their romance began in Riccione, ...</td>\n",
       "      <td>2022</td>\n",
       "      <td>PG-13</td>\n",
       "      <td>90</td>\n",
       "      <td>['romance', 'comedy', 'drama']</td>\n",
       "      <td>['IT']</td>\n",
       "      <td>NaN</td>\n",
       "      <td>tt15311262</td>\n",
       "      <td>5.2</td>\n",
       "      <td>502.0</td>\n",
       "      <td>561.722</td>\n",
       "      <td>6.300</td>\n",
       "    </tr>\n",
       "    <tr>\n",
       "      <th>4823</th>\n",
       "      <td>tm1137051</td>\n",
       "      <td>Bubble</td>\n",
       "      <td>MOVIE</td>\n",
       "      <td>In an abandoned Tokyo overrun by bubbles and g...</td>\n",
       "      <td>2022</td>\n",
       "      <td>PG</td>\n",
       "      <td>101</td>\n",
       "      <td>['scifi', 'fantasy', 'romance', 'sport', 'thri...</td>\n",
       "      <td>['JP']</td>\n",
       "      <td>NaN</td>\n",
       "      <td>tt16360006</td>\n",
       "      <td>6.3</td>\n",
       "      <td>4597.0</td>\n",
       "      <td>550.643</td>\n",
       "      <td>7.497</td>\n",
       "    </tr>\n",
       "    <tr>\n",
       "      <th>4695</th>\n",
       "      <td>tm305129</td>\n",
       "      <td>Sing 2</td>\n",
       "      <td>MOVIE</td>\n",
       "      <td>Buster and his new cast now have their sights ...</td>\n",
       "      <td>2021</td>\n",
       "      <td>PG</td>\n",
       "      <td>110</td>\n",
       "      <td>['comedy', 'family', 'fantasy', 'music', 'dram...</td>\n",
       "      <td>['US']</td>\n",
       "      <td>NaN</td>\n",
       "      <td>tt6467266</td>\n",
       "      <td>7.4</td>\n",
       "      <td>58423.0</td>\n",
       "      <td>545.619</td>\n",
       "      <td>8.052</td>\n",
       "    </tr>\n",
       "  </tbody>\n",
       "</table>\n",
       "</div>"
      ],
      "text/plain": [
       "             id                                      title   type  \\\n",
       "4707  tm1143265                                Incantation  MOVIE   \n",
       "1123    ts38796                            Stranger Things   SHOW   \n",
       "4702  tm1067148                              The Sea Beast  MOVIE   \n",
       "4714   tm928497                         Valley of the Dead  MOVIE   \n",
       "4696   tm852360                       The Man from Toronto  MOVIE   \n",
       "4693   ts252861                              Resident Evil   SHOW   \n",
       "5059  tm1210379                                  Collision  MOVIE   \n",
       "833     ts20110                             Peaky Blinders   SHOW   \n",
       "4699  tm1020438                                 Spiderhead  MOVIE   \n",
       "1136    ts36147                                    Lucifer   SHOW   \n",
       "4720   ts271437                Money Heist (Korean Remake)   SHOW   \n",
       "227     ts21469                             Grey's Anatomy   SHOW   \n",
       "4698  tm1126268                                     Hustle  MOVIE   \n",
       "5190   ts307745          Money Heist: From Tokyo to Berlin   SHOW   \n",
       "4746   ts302437           Kung Fu Panda: The Dragon Knight   SHOW   \n",
       "218         ts9                           The Walking Dead   SHOW   \n",
       "4734  tm1221677  Hello, Goodbye, and Everything in Between  MOVIE   \n",
       "4878  tm1227918                       Under the Amalfi Sun  MOVIE   \n",
       "4823  tm1137051                                     Bubble  MOVIE   \n",
       "4695   tm305129                                     Sing 2  MOVIE   \n",
       "\n",
       "                                            description  release_year  \\\n",
       "4707  Inspired by a true story of a family who belie...          2022   \n",
       "1123  When a young boy vanishes, a small town uncove...          2016   \n",
       "4702  When a young girl stows away on the ship of a ...          2022   \n",
       "4714  They're soldiers on different sides of the war...          2022   \n",
       "4696  In a case of mistaken identity, the world’s de...          2022   \n",
       "4693  Nearly three decades after the discovery of th...          2022   \n",
       "5059  Over the course of one fateful day, a corrupt ...          2022   \n",
       "833   A gangster family epic set in 1919 Birmingham,...          2013   \n",
       "4699  In the near future, convicts are offered the c...          2022   \n",
       "1136  Bored and unhappy as the Lord of Hell, Lucifer...          2016   \n",
       "4720  A story of genius strategists and robbers with...          2022   \n",
       "227   Follows the personal and professional lives of...          2005   \n",
       "4698  A basketball scout discovers a phenomenal stre...          2022   \n",
       "5190  The filmmakers and actors behind \"Money Heist\"...          2021   \n",
       "4746  Follow the adventures of Po, who partners up w...          2022   \n",
       "218   Sheriff's deputy Rick Grimes awakens from a co...          2010   \n",
       "4734  Clare and Aidan, who after making a pact that ...          2022   \n",
       "4878  A year after their romance began in Riccione, ...          2022   \n",
       "4823  In an abandoned Tokyo overrun by bubbles and g...          2022   \n",
       "4695  Buster and his new cast now have their sights ...          2021   \n",
       "\n",
       "     age_certification  runtime  \\\n",
       "4707               NaN      111   \n",
       "1123             TV-14       61   \n",
       "4702                PG      115   \n",
       "4714                 R      101   \n",
       "4696             PG-13      110   \n",
       "4693             TV-MA       51   \n",
       "5059               NaN       99   \n",
       "833              TV-MA       58   \n",
       "4699                 R      106   \n",
       "1136             TV-14       47   \n",
       "4720             TV-MA       70   \n",
       "227              TV-14       49   \n",
       "4698                 R      117   \n",
       "5190             TV-MA       53   \n",
       "4746             TV-Y7       24   \n",
       "218              TV-MA       46   \n",
       "4734             PG-13       83   \n",
       "4878             PG-13       90   \n",
       "4823                PG      101   \n",
       "4695                PG      110   \n",
       "\n",
       "                                                 genres production_countries  \\\n",
       "4707                                         ['horror']               ['TW']   \n",
       "1123  ['scifi', 'thriller', 'drama', 'fantasy', 'hor...               ['US']   \n",
       "4702  ['comedy', 'family', 'fantasy', 'scifi', 'anim...               ['US']   \n",
       "4714  ['comedy', 'horror', 'war', 'fantasy', 'thrill...               ['ES']   \n",
       "4696  ['action', 'thriller', 'drama', 'romance', 'co...               ['US']   \n",
       "4693          ['scifi', 'thriller', 'action', 'horror']               ['US']   \n",
       "5059                     ['drama', 'crime', 'thriller']               ['ZA']   \n",
       "833                      ['crime', 'drama', 'european']               ['GB']   \n",
       "4699  ['scifi', 'thriller', 'drama', 'action', 'crime']               ['US']   \n",
       "1136             ['scifi', 'crime', 'drama', 'fantasy']               ['US']   \n",
       "4720           ['action', 'drama', 'thriller', 'crime']               ['KR']   \n",
       "227                                ['drama', 'romance']               ['US']   \n",
       "4698                       ['drama', 'sport', 'comedy']               ['US']   \n",
       "5190                ['documentation', 'crime', 'drama']               ['ES']   \n",
       "4746  ['action', 'animation', 'family', 'fantasy', '...               ['US']   \n",
       "218   ['action', 'drama', 'scifi', 'horror', 'thrill...               ['US']   \n",
       "4734                     ['drama', 'comedy', 'romance']               ['US']   \n",
       "4878                     ['romance', 'comedy', 'drama']               ['IT']   \n",
       "4823  ['scifi', 'fantasy', 'romance', 'sport', 'thri...               ['JP']   \n",
       "4695  ['comedy', 'family', 'fantasy', 'music', 'dram...               ['US']   \n",
       "\n",
       "      seasons     imdb_id  imdb_score  imdb_votes  tmdb_popularity  tmdb_score  \n",
       "4707      NaN  tt18968540         6.2      5660.0         2274.044       7.400  \n",
       "1123      5.0   tt4574334         8.7   1101055.0         2226.231       8.635  \n",
       "4702      NaN   tt9288046         7.1     18852.0         1723.363       7.634  \n",
       "4714      NaN  tt10127708         6.5       114.0         1668.296       6.303  \n",
       "4696      NaN  tt11671006         5.8     31497.0         1439.906       6.449  \n",
       "4693      1.0   tt9660182         3.7     24982.0         1387.392       5.956  \n",
       "5059      NaN  tt10809742         3.9       886.0         1194.149       5.946  \n",
       "833       6.0   tt2442560         8.8    511668.0         1038.077       8.558  \n",
       "4699      NaN   tt9783600         5.4     43239.0          996.869       5.800  \n",
       "1136      6.0   tt4052886         8.1    313124.0          922.112       8.523  \n",
       "4720      1.0  tt13696452         5.2      5142.0          904.326       7.998  \n",
       "227      19.0   tt0413573         7.6    299165.0          803.786       8.252  \n",
       "4698      NaN   tt8009428         7.4     89770.0          746.928       7.900  \n",
       "5190      2.0  tt15384346         7.7       890.0          712.899       7.391  \n",
       "4746      1.0  tt18783984         5.9       742.0          656.832       7.500  \n",
       "218      11.0   tt1520211         8.2    956604.0          597.277       8.100  \n",
       "4734      NaN   tt4181158         4.9      1842.0          564.004       5.965  \n",
       "4878      NaN  tt15311262         5.2       502.0          561.722       6.300  \n",
       "4823      NaN  tt16360006         6.3      4597.0          550.643       7.497  \n",
       "4695      NaN   tt6467266         7.4     58423.0          545.619       8.052  "
      ]
     },
     "execution_count": 14,
     "metadata": {},
     "output_type": "execute_result"
    }
   ],
   "source": [
    "top_Movies = nx_df.sort_values(by=['tmdb_popularity'], ascending = False).head(20)\n",
    "top_MovieID = list(top_Movies['id'])\n",
    "top_Movies"
   ]
  },
  {
   "cell_type": "code",
   "execution_count": 15,
   "id": "33f15174-27d3-4f0a-bda5-ddc414e9c832",
   "metadata": {},
   "outputs": [
    {
     "data": {
      "text/html": [
       "<div>\n",
       "<style scoped>\n",
       "    .dataframe tbody tr th:only-of-type {\n",
       "        vertical-align: middle;\n",
       "    }\n",
       "\n",
       "    .dataframe tbody tr th {\n",
       "        vertical-align: top;\n",
       "    }\n",
       "\n",
       "    .dataframe thead th {\n",
       "        text-align: right;\n",
       "    }\n",
       "</style>\n",
       "<table border=\"1\" class=\"dataframe\">\n",
       "  <thead>\n",
       "    <tr style=\"text-align: right;\">\n",
       "      <th></th>\n",
       "      <th>person_id</th>\n",
       "      <th>id</th>\n",
       "      <th>name</th>\n",
       "      <th>character</th>\n",
       "      <th>role</th>\n",
       "    </tr>\n",
       "  </thead>\n",
       "  <tbody>\n",
       "    <tr>\n",
       "      <th>4467</th>\n",
       "      <td>7302</td>\n",
       "      <td>ts9</td>\n",
       "      <td>Norman Reedus</td>\n",
       "      <td>Daryl Dixon</td>\n",
       "      <td>ACTOR</td>\n",
       "    </tr>\n",
       "    <tr>\n",
       "      <th>4468</th>\n",
       "      <td>11306</td>\n",
       "      <td>ts9</td>\n",
       "      <td>Melissa McBride</td>\n",
       "      <td>Carol Peletier</td>\n",
       "      <td>ACTOR</td>\n",
       "    </tr>\n",
       "    <tr>\n",
       "      <th>4469</th>\n",
       "      <td>22811</td>\n",
       "      <td>ts9</td>\n",
       "      <td>Lauren Cohan</td>\n",
       "      <td>Maggie Greene</td>\n",
       "      <td>ACTOR</td>\n",
       "    </tr>\n",
       "    <tr>\n",
       "      <th>4470</th>\n",
       "      <td>9766</td>\n",
       "      <td>ts9</td>\n",
       "      <td>Christian Serratos</td>\n",
       "      <td>Rosita Espinosa</td>\n",
       "      <td>ACTOR</td>\n",
       "    </tr>\n",
       "    <tr>\n",
       "      <th>4471</th>\n",
       "      <td>84007</td>\n",
       "      <td>ts9</td>\n",
       "      <td>Josh McDermitt</td>\n",
       "      <td>Eugene Porter</td>\n",
       "      <td>ACTOR</td>\n",
       "    </tr>\n",
       "    <tr>\n",
       "      <th>...</th>\n",
       "      <td>...</td>\n",
       "      <td>...</td>\n",
       "      <td>...</td>\n",
       "      <td>...</td>\n",
       "      <td>...</td>\n",
       "    </tr>\n",
       "    <tr>\n",
       "      <th>71403</th>\n",
       "      <td>231777</td>\n",
       "      <td>ts307745</td>\n",
       "      <td>Hovik Keuchkerian</td>\n",
       "      <td>NaN</td>\n",
       "      <td>ACTOR</td>\n",
       "    </tr>\n",
       "    <tr>\n",
       "      <th>71404</th>\n",
       "      <td>1164068</td>\n",
       "      <td>ts307745</td>\n",
       "      <td>Ahikar Azcona</td>\n",
       "      <td>NaN</td>\n",
       "      <td>ACTOR</td>\n",
       "    </tr>\n",
       "    <tr>\n",
       "      <th>71405</th>\n",
       "      <td>183630</td>\n",
       "      <td>ts307745</td>\n",
       "      <td>Miguel Herrán</td>\n",
       "      <td>NaN</td>\n",
       "      <td>ACTOR</td>\n",
       "    </tr>\n",
       "    <tr>\n",
       "      <th>71406</th>\n",
       "      <td>118533</td>\n",
       "      <td>ts307745</td>\n",
       "      <td>Alba Flores</td>\n",
       "      <td>Nairobi</td>\n",
       "      <td>ACTOR</td>\n",
       "    </tr>\n",
       "    <tr>\n",
       "      <th>71407</th>\n",
       "      <td>27549</td>\n",
       "      <td>ts307745</td>\n",
       "      <td>Fernando Cayo</td>\n",
       "      <td>NaN</td>\n",
       "      <td>ACTOR</td>\n",
       "    </tr>\n",
       "  </tbody>\n",
       "</table>\n",
       "<p>391 rows × 5 columns</p>\n",
       "</div>"
      ],
      "text/plain": [
       "       person_id        id                name        character   role\n",
       "4467        7302       ts9       Norman Reedus      Daryl Dixon  ACTOR\n",
       "4468       11306       ts9     Melissa McBride   Carol Peletier  ACTOR\n",
       "4469       22811       ts9        Lauren Cohan    Maggie Greene  ACTOR\n",
       "4470        9766       ts9  Christian Serratos  Rosita Espinosa  ACTOR\n",
       "4471       84007       ts9      Josh McDermitt    Eugene Porter  ACTOR\n",
       "...          ...       ...                 ...              ...    ...\n",
       "71403     231777  ts307745   Hovik Keuchkerian              NaN  ACTOR\n",
       "71404    1164068  ts307745       Ahikar Azcona              NaN  ACTOR\n",
       "71405     183630  ts307745       Miguel Herrán              NaN  ACTOR\n",
       "71406     118533  ts307745         Alba Flores          Nairobi  ACTOR\n",
       "71407      27549  ts307745       Fernando Cayo              NaN  ACTOR\n",
       "\n",
       "[391 rows x 5 columns]"
      ]
     },
     "execution_count": 15,
     "metadata": {},
     "output_type": "execute_result"
    }
   ],
   "source": [
    "credit_index = np.where(credits_df['id'].isin(top_MovieID))[0]\n",
    "credits = credits_df.filter(items = credit_index , axis = 0)\n",
    "top_artists = credits[credits['role'] == 'ACTOR']\n",
    "top_artists"
   ]
  },
  {
   "cell_type": "code",
   "execution_count": 16,
   "id": "27b67b75-8e29-45f6-89d7-14d75c0c4c01",
   "metadata": {},
   "outputs": [
    {
     "data": {
      "text/html": [
       "<div>\n",
       "<style scoped>\n",
       "    .dataframe tbody tr th:only-of-type {\n",
       "        vertical-align: middle;\n",
       "    }\n",
       "\n",
       "    .dataframe tbody tr th {\n",
       "        vertical-align: top;\n",
       "    }\n",
       "\n",
       "    .dataframe thead th {\n",
       "        text-align: right;\n",
       "    }\n",
       "</style>\n",
       "<table border=\"1\" class=\"dataframe\">\n",
       "  <thead>\n",
       "    <tr style=\"text-align: right;\">\n",
       "      <th></th>\n",
       "      <th>person_id</th>\n",
       "      <th>id</th>\n",
       "      <th>name</th>\n",
       "      <th>character</th>\n",
       "      <th>role</th>\n",
       "    </tr>\n",
       "  </thead>\n",
       "  <tbody>\n",
       "    <tr>\n",
       "      <th>64393</th>\n",
       "      <td>7991</td>\n",
       "      <td>tm1067148</td>\n",
       "      <td>Brian T. Delaney</td>\n",
       "      <td>Jim Nicklebones (voice)</td>\n",
       "      <td>ACTOR</td>\n",
       "    </tr>\n",
       "    <tr>\n",
       "      <th>64541</th>\n",
       "      <td>2681</td>\n",
       "      <td>tm928497</td>\n",
       "      <td>María Botto</td>\n",
       "      <td>Sor Flor</td>\n",
       "      <td>ACTOR</td>\n",
       "    </tr>\n",
       "  </tbody>\n",
       "</table>\n",
       "</div>"
      ],
      "text/plain": [
       "       person_id         id              name                character   role\n",
       "64393       7991  tm1067148  Brian T. Delaney  Jim Nicklebones (voice)  ACTOR\n",
       "64541       2681   tm928497       María Botto                 Sor Flor  ACTOR"
      ]
     },
     "execution_count": 16,
     "metadata": {},
     "output_type": "execute_result"
    }
   ],
   "source": [
    "duplicated_artist = top_artists.duplicated(subset = ['person_id'])\n",
    "top_artists.loc[duplicated_artist]"
   ]
  },
  {
   "cell_type": "code",
   "execution_count": 17,
   "id": "abcd22c7-7681-4ddb-ab60-0c1b461b9ca8",
   "metadata": {},
   "outputs": [
    {
     "data": {
      "text/html": [
       "<div>\n",
       "<style scoped>\n",
       "    .dataframe tbody tr th:only-of-type {\n",
       "        vertical-align: middle;\n",
       "    }\n",
       "\n",
       "    .dataframe tbody tr th {\n",
       "        vertical-align: top;\n",
       "    }\n",
       "\n",
       "    .dataframe thead th {\n",
       "        text-align: right;\n",
       "    }\n",
       "</style>\n",
       "<table border=\"1\" class=\"dataframe\">\n",
       "  <thead>\n",
       "    <tr style=\"text-align: right;\">\n",
       "      <th></th>\n",
       "      <th>person_id</th>\n",
       "      <th>id</th>\n",
       "      <th>name</th>\n",
       "      <th>character</th>\n",
       "      <th>role</th>\n",
       "    </tr>\n",
       "  </thead>\n",
       "  <tbody>\n",
       "    <tr>\n",
       "      <th>64203</th>\n",
       "      <td>7991</td>\n",
       "      <td>tm305129</td>\n",
       "      <td>Brian T. Delaney</td>\n",
       "      <td>Additional Voice (voice)</td>\n",
       "      <td>ACTOR</td>\n",
       "    </tr>\n",
       "    <tr>\n",
       "      <th>64393</th>\n",
       "      <td>7991</td>\n",
       "      <td>tm1067148</td>\n",
       "      <td>Brian T. Delaney</td>\n",
       "      <td>Jim Nicklebones (voice)</td>\n",
       "      <td>ACTOR</td>\n",
       "    </tr>\n",
       "  </tbody>\n",
       "</table>\n",
       "</div>"
      ],
      "text/plain": [
       "       person_id         id              name                 character   role\n",
       "64203       7991   tm305129  Brian T. Delaney  Additional Voice (voice)  ACTOR\n",
       "64393       7991  tm1067148  Brian T. Delaney   Jim Nicklebones (voice)  ACTOR"
      ]
     },
     "execution_count": 17,
     "metadata": {},
     "output_type": "execute_result"
    }
   ],
   "source": [
    "(credits[credits['person_id'] == 7991])"
   ]
  },
  {
   "cell_type": "code",
   "execution_count": 18,
   "id": "635d5e59-391b-47dc-aabd-aad75d824ec4",
   "metadata": {},
   "outputs": [
    {
     "data": {
      "text/html": [
       "<div>\n",
       "<style scoped>\n",
       "    .dataframe tbody tr th:only-of-type {\n",
       "        vertical-align: middle;\n",
       "    }\n",
       "\n",
       "    .dataframe tbody tr th {\n",
       "        vertical-align: top;\n",
       "    }\n",
       "\n",
       "    .dataframe thead th {\n",
       "        text-align: right;\n",
       "    }\n",
       "</style>\n",
       "<table border=\"1\" class=\"dataframe\">\n",
       "  <thead>\n",
       "    <tr style=\"text-align: right;\">\n",
       "      <th></th>\n",
       "      <th>person_id</th>\n",
       "      <th>id</th>\n",
       "      <th>name</th>\n",
       "      <th>character</th>\n",
       "      <th>role</th>\n",
       "    </tr>\n",
       "  </thead>\n",
       "  <tbody>\n",
       "    <tr>\n",
       "      <th>64287</th>\n",
       "      <td>2681</td>\n",
       "      <td>tm1126268</td>\n",
       "      <td>María Botto</td>\n",
       "      <td>Paola</td>\n",
       "      <td>ACTOR</td>\n",
       "    </tr>\n",
       "    <tr>\n",
       "      <th>64541</th>\n",
       "      <td>2681</td>\n",
       "      <td>tm928497</td>\n",
       "      <td>María Botto</td>\n",
       "      <td>Sor Flor</td>\n",
       "      <td>ACTOR</td>\n",
       "    </tr>\n",
       "  </tbody>\n",
       "</table>\n",
       "</div>"
      ],
      "text/plain": [
       "       person_id         id         name character   role\n",
       "64287       2681  tm1126268  María Botto     Paola  ACTOR\n",
       "64541       2681   tm928497  María Botto  Sor Flor  ACTOR"
      ]
     },
     "execution_count": 18,
     "metadata": {},
     "output_type": "execute_result"
    }
   ],
   "source": [
    "(credits[credits['person_id'] == 2681])"
   ]
  },
  {
   "cell_type": "markdown",
   "id": "a682f3cb-e986-458b-baa9-e70a90619acf",
   "metadata": {},
   "source": [
    "`In the top 20 shows and Movies, Only 2 Artists in multiple shows, more specifically they were featured in only 2 different shows. The Artists are Brian T. Delaney and Maria Botto, However only 2 artists shows that a certain actor may not be the only reason for a Movie or Show's popularity`"
   ]
  },
  {
   "cell_type": "markdown",
   "id": "8f2b2393-72e6-4a42-acc6-e539b878ebca",
   "metadata": {},
   "source": [
    "2. Is there a specific director that produces top scoring films"
   ]
  },
  {
   "cell_type": "markdown",
   "id": "b7a149f5",
   "metadata": {},
   "source": [
    "To find the top scoring films, the nx_df is sorted by their ``imdb_score`` value. The top 20 highest scoring film's ``id`` are then placed on a list called `top_MovieID`. \n",
    "\n",
    "Credits_df is then filtered so that the only ones left will be those whose ``id`` is present in `top_MovieID`. The set is then further filtered to only have those that have the role ``DIRECTOR``\n",
    "\n",
    "After Obtaining the list of `top_Director`, We will then find if there are any duplicate directors in the Top 20. This is done to see if there are Directors that consistently produce high scoring films."
   ]
  },
  {
   "cell_type": "code",
   "execution_count": 19,
   "id": "090be59f-81a4-444f-8001-dc8c9f958305",
   "metadata": {},
   "outputs": [
    {
     "data": {
      "text/html": [
       "<div>\n",
       "<style scoped>\n",
       "    .dataframe tbody tr th:only-of-type {\n",
       "        vertical-align: middle;\n",
       "    }\n",
       "\n",
       "    .dataframe tbody tr th {\n",
       "        vertical-align: top;\n",
       "    }\n",
       "\n",
       "    .dataframe thead th {\n",
       "        text-align: right;\n",
       "    }\n",
       "</style>\n",
       "<table border=\"1\" class=\"dataframe\">\n",
       "  <thead>\n",
       "    <tr style=\"text-align: right;\">\n",
       "      <th></th>\n",
       "      <th>person_id</th>\n",
       "      <th>id</th>\n",
       "      <th>name</th>\n",
       "      <th>character</th>\n",
       "      <th>role</th>\n",
       "    </tr>\n",
       "  </thead>\n",
       "  <tbody>\n",
       "    <tr>\n",
       "      <th>3884</th>\n",
       "      <td>451452</td>\n",
       "      <td>ts28516</td>\n",
       "      <td>Bruno Stagnaro</td>\n",
       "      <td>NaN</td>\n",
       "      <td>DIRECTOR</td>\n",
       "    </tr>\n",
       "    <tr>\n",
       "      <th>12953</th>\n",
       "      <td>859215</td>\n",
       "      <td>ts32835</td>\n",
       "      <td>Hiroshi Koujina</td>\n",
       "      <td>NaN</td>\n",
       "      <td>DIRECTOR</td>\n",
       "    </tr>\n",
       "    <tr>\n",
       "      <th>22541</th>\n",
       "      <td>728308</td>\n",
       "      <td>ts37660</td>\n",
       "      <td>Shin Won-ho</td>\n",
       "      <td>NaN</td>\n",
       "      <td>DIRECTOR</td>\n",
       "    </tr>\n",
       "    <tr>\n",
       "      <th>44212</th>\n",
       "      <td>195528</td>\n",
       "      <td>ts81120</td>\n",
       "      <td>Jason Hehir</td>\n",
       "      <td>NaN</td>\n",
       "      <td>DIRECTOR</td>\n",
       "    </tr>\n",
       "    <tr>\n",
       "      <th>65409</th>\n",
       "      <td>937765</td>\n",
       "      <td>tm996762</td>\n",
       "      <td>Sashi Kiran Tikka</td>\n",
       "      <td>NaN</td>\n",
       "      <td>DIRECTOR</td>\n",
       "    </tr>\n",
       "  </tbody>\n",
       "</table>\n",
       "</div>"
      ],
      "text/plain": [
       "       person_id        id               name character      role\n",
       "3884      451452   ts28516     Bruno Stagnaro       NaN  DIRECTOR\n",
       "12953     859215   ts32835    Hiroshi Koujina       NaN  DIRECTOR\n",
       "22541     728308   ts37660        Shin Won-ho       NaN  DIRECTOR\n",
       "44212     195528   ts81120        Jason Hehir       NaN  DIRECTOR\n",
       "65409     937765  tm996762  Sashi Kiran Tikka       NaN  DIRECTOR"
      ]
     },
     "execution_count": 19,
     "metadata": {},
     "output_type": "execute_result"
    }
   ],
   "source": [
    "top_Movies = nx_df.sort_values(by=['imdb_score'], ascending = False).head(20)\n",
    "top_MovieID = list(top_Movies['id'])\n",
    "top_credits = credits_df['id'].isin(top_MovieID)\n",
    "credit_index = top_credits[top_credits].index\n",
    "credits = credits_df.filter(items = credit_index , axis = 0)\n",
    "top_Director = credits[credits['role'] == 'DIRECTOR']\n",
    "top_Director"
   ]
  },
  {
   "cell_type": "code",
   "execution_count": 20,
   "id": "ed422227-9558-4303-8ffd-6285f5e0c618",
   "metadata": {},
   "outputs": [
    {
     "data": {
      "text/plain": [
       "0"
      ]
     },
     "execution_count": 20,
     "metadata": {},
     "output_type": "execute_result"
    }
   ],
   "source": [
    "duplicated_directors = top_Director.duplicated(subset = ['person_id']).sum()\n",
    "duplicated_directors"
   ]
  },
  {
   "cell_type": "markdown",
   "id": "9b94feee-2f6f-43f3-ad27-18b8369b6217",
   "metadata": {},
   "source": [
    "`In the top 20 shows, No Show or Movie shares the Same Director, this shows that no specific director has multiple entries in the top 20 Movies and Shows. However not all shows had a Director stored in the credits dataframe`"
   ]
  },
  {
   "cell_type": "markdown",
   "id": "a68b4bf3-91ba-4d9d-b65a-300c42b379c4",
   "metadata": {
    "tags": []
   },
   "source": [
    "### 4. Season and IMDB Score Correlation"
   ]
  },
  {
   "cell_type": "markdown",
   "id": "1ba9677d-0d84-4770-9cf7-38805a39053f",
   "metadata": {
    "tags": []
   },
   "source": [
    "#### d. Identify if a correlation exists between the number of seasons in a show and its corresponding IMDB rating.\n",
    "We first got the mean imdb_score for every season using the groupby() and agg() functions, we then plotted these points onto a line graph \n",
    "\n"
   ]
  },
  {
   "cell_type": "code",
   "execution_count": 21,
   "id": "736e2a9d-cf74-40f0-9053-430db5e000fc",
   "metadata": {},
   "outputs": [
    {
     "data": {
      "image/png": "[encoded data removed]",
      "text/plain": [
       "<Figure size 432x288 with 1 Axes>"
      ]
     },
     "metadata": {
      "needs_background": "light"
     },
     "output_type": "display_data"
    }
   ],
   "source": [
    "season_rating = nx_df.groupby(\"seasons\").agg({\"imdb_score\": [\"mean\"]})\n",
    "season_rating.sort_values((\"imdb_score\", \"mean\"), ascending=False)\n",
    "plt.plot(season_rating)\n",
    "plt.xlabel('seasons')\n",
    "plt.ylabel('imdb_score')\n",
    "plt.suptitle('Line Graph: Seasons and IMDB Score')\n",
    "plt.show()"
   ]
  },
  {
   "cell_type": "markdown",
   "id": "375b26e2-d40d-4875-903d-29856be88c9e",
   "metadata": {},
   "source": [
    "We then got the correlation between seasons and imdb_score using the Spearman method"
   ]
  },
  {
   "cell_type": "code",
   "execution_count": 22,
   "id": "080902c6-47c9-4c09-a442-8e956bffe08a",
   "metadata": {},
   "outputs": [
    {
     "data": {
      "text/html": [
       "<div>\n",
       "<style scoped>\n",
       "    .dataframe tbody tr th:only-of-type {\n",
       "        vertical-align: middle;\n",
       "    }\n",
       "\n",
       "    .dataframe tbody tr th {\n",
       "        vertical-align: top;\n",
       "    }\n",
       "\n",
       "    .dataframe thead th {\n",
       "        text-align: right;\n",
       "    }\n",
       "</style>\n",
       "<table border=\"1\" class=\"dataframe\">\n",
       "  <thead>\n",
       "    <tr style=\"text-align: right;\">\n",
       "      <th></th>\n",
       "      <th>seasons</th>\n",
       "      <th>imdb_score</th>\n",
       "    </tr>\n",
       "  </thead>\n",
       "  <tbody>\n",
       "    <tr>\n",
       "      <th>seasons</th>\n",
       "      <td>1.000000</td>\n",
       "      <td>0.155145</td>\n",
       "    </tr>\n",
       "    <tr>\n",
       "      <th>imdb_score</th>\n",
       "      <td>0.155145</td>\n",
       "      <td>1.000000</td>\n",
       "    </tr>\n",
       "  </tbody>\n",
       "</table>\n",
       "</div>"
      ],
      "text/plain": [
       "             seasons  imdb_score\n",
       "seasons     1.000000    0.155145\n",
       "imdb_score  0.155145    1.000000"
      ]
     },
     "execution_count": 22,
     "metadata": {},
     "output_type": "execute_result"
    }
   ],
   "source": [
    "seasons_score = nx_df[['seasons', 'imdb_score']]\n",
    "seasons_score.corr(method=\"spearman\")"
   ]
  },
  {
   "cell_type": "markdown",
   "id": "6aac882e-ec06-4a5b-a6b9-3fad9532b6ea",
   "metadata": {},
   "source": [
    "and placed the result into a scatter plot"
   ]
  },
  {
   "cell_type": "code",
   "execution_count": 23,
   "id": "b0021a86-a648-46c8-b61a-276658df5649",
   "metadata": {},
   "outputs": [
    {
     "data": {
      "text/plain": [
       "Text(0.5, 1.0, 'Relationship of Number of Seasons and IMDB Score')"
      ]
     },
     "execution_count": 23,
     "metadata": {},
     "output_type": "execute_result"
    },
    {
     "data": {
      "image/png": "[encoded data removed]",
      "text/plain": [
       "<Figure size 432x288 with 1 Axes>"
      ]
     },
     "metadata": {
      "needs_background": "light"
     },
     "output_type": "display_data"
    }
   ],
   "source": [
    "seasons_score.plot.scatter(x='seasons', y='imdb_score', alpha=0.5)\n",
    "plt.title('Relationship of Number of Seasons and IMDB Score')"
   ]
  },
  {
   "cell_type": "markdown",
   "id": "0197582f-db7f-452d-b46a-a022852fd52b",
   "metadata": {},
   "source": [
    "We find that both the result and the scatter plot show that the relationship between number of seasons and the IMDB Score is positively monotonic"
   ]
  },
  {
   "cell_type": "markdown",
   "id": "8cf64fe9-41b4-4ddf-8c70-3d67a00a6b4d",
   "metadata": {},
   "source": [
    "### 5. Most Popular Genre Combinations\n",
    "Ranking Genre Combinations by their TMDB Popularity"
   ]
  },
  {
   "cell_type": "code",
   "execution_count": 24,
   "id": "fe9bd82e-ba6d-495d-b2b0-cb390dc199d3",
   "metadata": {},
   "outputs": [
    {
     "data": {
      "text/html": [
       "<div>\n",
       "<style scoped>\n",
       "    .dataframe tbody tr th:only-of-type {\n",
       "        vertical-align: middle;\n",
       "    }\n",
       "\n",
       "    .dataframe tbody tr th {\n",
       "        vertical-align: top;\n",
       "    }\n",
       "\n",
       "    .dataframe thead tr th {\n",
       "        text-align: left;\n",
       "    }\n",
       "\n",
       "    .dataframe thead tr:last-of-type th {\n",
       "        text-align: right;\n",
       "    }\n",
       "</style>\n",
       "<table border=\"1\" class=\"dataframe\">\n",
       "  <thead>\n",
       "    <tr>\n",
       "      <th></th>\n",
       "      <th>tmdb_popularity</th>\n",
       "    </tr>\n",
       "    <tr>\n",
       "      <th></th>\n",
       "      <th>mean</th>\n",
       "    </tr>\n",
       "    <tr>\n",
       "      <th>genres</th>\n",
       "      <th></th>\n",
       "    </tr>\n",
       "  </thead>\n",
       "  <tbody>\n",
       "    <tr>\n",
       "      <th>['scifi', 'thriller', 'drama', 'fantasy', 'horror']</th>\n",
       "      <td>2226.2310</td>\n",
       "    </tr>\n",
       "    <tr>\n",
       "      <th>['comedy', 'family', 'fantasy', 'scifi', 'animation']</th>\n",
       "      <td>1723.3630</td>\n",
       "    </tr>\n",
       "    <tr>\n",
       "      <th>['comedy', 'horror', 'war', 'fantasy', 'thriller', 'action']</th>\n",
       "      <td>1668.2960</td>\n",
       "    </tr>\n",
       "    <tr>\n",
       "      <th>['action', 'thriller', 'drama', 'romance', 'comedy']</th>\n",
       "      <td>1439.9060</td>\n",
       "    </tr>\n",
       "    <tr>\n",
       "      <th>['scifi', 'thriller', 'drama', 'action', 'crime']</th>\n",
       "      <td>996.8690</td>\n",
       "    </tr>\n",
       "    <tr>\n",
       "      <th>['scifi', 'crime', 'drama', 'fantasy']</th>\n",
       "      <td>922.1120</td>\n",
       "    </tr>\n",
       "    <tr>\n",
       "      <th>['drama', 'sport', 'comedy']</th>\n",
       "      <td>746.9280</td>\n",
       "    </tr>\n",
       "    <tr>\n",
       "      <th>['scifi', 'thriller', 'action', 'horror']</th>\n",
       "      <td>698.9635</td>\n",
       "    </tr>\n",
       "    <tr>\n",
       "      <th>['action', 'animation', 'family', 'fantasy', 'comedy']</th>\n",
       "      <td>656.8320</td>\n",
       "    </tr>\n",
       "    <tr>\n",
       "      <th>['action', 'drama', 'scifi', 'horror', 'thriller']</th>\n",
       "      <td>597.2770</td>\n",
       "    </tr>\n",
       "  </tbody>\n",
       "</table>\n",
       "</div>"
      ],
      "text/plain": [
       "                                                   tmdb_popularity\n",
       "                                                              mean\n",
       "genres                                                            \n",
       "['scifi', 'thriller', 'drama', 'fantasy', 'horr...       2226.2310\n",
       "['comedy', 'family', 'fantasy', 'scifi', 'anima...       1723.3630\n",
       "['comedy', 'horror', 'war', 'fantasy', 'thrille...       1668.2960\n",
       "['action', 'thriller', 'drama', 'romance', 'com...       1439.9060\n",
       "['scifi', 'thriller', 'drama', 'action', 'crime']         996.8690\n",
       "['scifi', 'crime', 'drama', 'fantasy']                    922.1120\n",
       "['drama', 'sport', 'comedy']                              746.9280\n",
       "['scifi', 'thriller', 'action', 'horror']                 698.9635\n",
       "['action', 'animation', 'family', 'fantasy', 'c...        656.8320\n",
       "['action', 'drama', 'scifi', 'horror', 'thriller']        597.2770"
      ]
     },
     "execution_count": 24,
     "metadata": {},
     "output_type": "execute_result"
    }
   ],
   "source": [
    "genre_pop = nx_df.groupby(\"genres\").agg({\"tmdb_popularity\": [\"mean\"]})\n",
    "genre_pop_10 = genre_pop.sort_values((\"tmdb_popularity\", \"mean\"), ascending=False).head(10)\n",
    "genre_pop_10"
   ]
  },
  {
   "cell_type": "code",
   "execution_count": 25,
   "id": "6f7375ae-18d7-4b1f-b597-1e36d614ca23",
   "metadata": {},
   "outputs": [
    {
     "data": {
      "image/png": "[encoded data removed]",
      "text/plain": [
       "<Figure size 432x504 with 1 Axes>"
      ]
     },
     "metadata": {
      "needs_background": "light"
     },
     "output_type": "display_data"
    }
   ],
   "source": [
    "genre_pop_10.plot.barh(figsize=(6,7)).invert_yaxis()"
   ]
  },
  {
   "cell_type": "markdown",
   "id": "9e3b8f83-04b2-46f5-87c7-4f7216c6eb2a",
   "metadata": {},
   "source": [
    "After grouping based on genre, we aggregated the TMDB popularity for these content groups. The test showed that the genre combination of 'scifi', 'thriller', 'drama', 'fantasy', 'horror' are the most popular genre combination amongst the groups."
   ]
  },
  {
   "cell_type": "markdown",
   "id": "d97f8458-40c0-4963-9a4d-2b979c941a7b",
   "metadata": {},
   "source": [
    "### TMDB vs IMDB?"
   ]
  },
  {
   "cell_type": "markdown",
   "id": "d44ad820-3940-4048-8de8-36e54b249779",
   "metadata": {},
   "source": [
    "- The difference is in the number of entries. According to Francois Carpentier, TMDB offers better freedom and stronger privacy compared to IMDB. The drawback with TMDB is it only has listed 4.4 million titles compared to IMDB's 11 million. "
   ]
  },
  {
   "cell_type": "markdown",
   "id": "e0976276-01c0-490c-8b61-ad65840d839a",
   "metadata": {
    "tags": []
   },
   "source": [
    "## II. Research Question"
   ]
  },
  {
   "cell_type": "markdown",
   "id": "4a3255fb-d211-4747-be55-0e727a1685e5",
   "metadata": {},
   "source": [
    "### What are the Genres that usually go together?"
   ]
  },
  {
   "cell_type": "markdown",
   "id": "b4adad06-0162-474a-a24e-a9b451ac3823",
   "metadata": {},
   "source": [
    "After checking the number of content, season and popularity correlations the researchers observed how each movie record could be represented by its genres. "
   ]
  },
  {
   "cell_type": "markdown",
   "id": "b8860f1a-74b3-4021-96a4-c43b1c1cdfb3",
   "metadata": {},
   "source": [
    "Knowledge on what combination of genres usually go together can give us insight on the type of content the US audience consumes regularly."
   ]
  },
  {
   "cell_type": "markdown",
   "id": "18864591-7112-46d7-825f-617100eec0aa",
   "metadata": {
    "tags": []
   },
   "source": [
    "## III. [For Phase 2]: GENRE"
   ]
  },
  {
   "cell_type": "code",
   "execution_count": 26,
   "id": "580cae14-3621-481e-8004-784c1fcc74bd",
   "metadata": {},
   "outputs": [
    {
     "data": {
      "text/plain": [
       "(59, 15)"
      ]
     },
     "execution_count": 26,
     "metadata": {},
     "output_type": "execute_result"
    }
   ],
   "source": [
    "nx_df[nx_df['genres'] == '[]'].shape"
   ]
  },
  {
   "cell_type": "markdown",
   "id": "e3f9157c-9fba-4f53-a308-e79ccc2bbd78",
   "metadata": {},
   "source": [
    "With the relatively low number of missing values, we can opt to remove."
   ]
  },
  {
   "cell_type": "markdown",
   "id": "9e3ea255-c2ff-42bd-908a-3c64b03ea859",
   "metadata": {},
   "source": [
    "### Data Cleaning"
   ]
  },
  {
   "cell_type": "code",
   "execution_count": 27,
   "id": "1832313f-3237-4004-9d5a-080ca8c00e5d",
   "metadata": {},
   "outputs": [],
   "source": [
    "#drop the content  where [] is the genre.\n",
    "genre_df = nx_df.copy()\n",
    "genre_df = genre_df.drop(genre_df[nx_df['genres'] == '[]'].index)\n",
    "\n",
    "#Find the types of genres.\n",
    "#for each observation, get the individual genres and place them in a list.\n",
    "#perform one hot encoding."
   ]
  },
  {
   "cell_type": "code",
   "execution_count": 28,
   "id": "4b73235d-f799-42d9-8c90-4b320ad83881",
   "metadata": {},
   "outputs": [
    {
     "data": {
      "text/plain": [
       "5791"
      ]
     },
     "execution_count": 28,
     "metadata": {},
     "output_type": "execute_result"
    }
   ],
   "source": [
    "words = []\n",
    "cleaned_genre = []\n",
    "list_of_genres = []\n",
    "for i in genre_df['genres'].index:\n",
    "    for j in  genre_df['genres'][i].split(\"'\"):\n",
    "        if(len(j) > 2):\n",
    "            words.append(j)\n",
    "            if(list_of_genres.count(j) == 0):\n",
    "                list_of_genres.append(j)\n",
    "    cleaned_genre.append(words.copy())\n",
    "    words.clear()\n",
    "genre_df['genres'] = cleaned_genre\n",
    "len(genre_df)"
   ]
  },
  {
   "cell_type": "markdown",
   "id": "d1461dc6-8134-4e4a-a48f-8342ad088686",
   "metadata": {},
   "source": [
    "Because an observation can have multiple genres, we need to **separate them first**."
   ]
  },
  {
   "cell_type": "code",
   "execution_count": 29,
   "id": "bc846937-3170-4845-b08c-e8b76eccab4b",
   "metadata": {},
   "outputs": [],
   "source": [
    "#Get all the genre options\n",
    "final_genre_df = pd.DataFrame([[0 for _ in range(len(list_of_genres))] for _ in range(5791)], columns=list_of_genres)\n",
    "genre_df['index'] = list(range(0,5791))\n",
    "genre_df = genre_df.set_index('index')"
   ]
  },
  {
   "cell_type": "markdown",
   "id": "3cd859ff-47b9-448f-aedf-beb43dc194d1",
   "metadata": {},
   "source": [
    "### [Ordinal] One Hot Encoding"
   ]
  },
  {
   "cell_type": "markdown",
   "id": "c43975bc-6c55-4170-b39c-85b6383c1a77",
   "metadata": {},
   "source": [
    "For all observations, we perform **Ordinal encoding** on each genre. "
   ]
  },
  {
   "cell_type": "markdown",
   "id": "3b60a176-38bf-4370-8fba-2cd049a8fa96",
   "metadata": {},
   "source": [
    "**Assumption:** Because content genre can be a combination of genres, the order of appearance is used to rank and determine the primary genre "
   ]
  },
  {
   "cell_type": "code",
   "execution_count": 30,
   "id": "1c7e9ffc-28b4-40cc-94a9-57f2636fa88e",
   "metadata": {},
   "outputs": [],
   "source": [
    "for row in genre_df.index:\n",
    "    ctr = len(genre_df['genres'][row])\n",
    "    for genre in range(ctr):  #How many Genres a content has.\n",
    "        for types in range(len(list_of_genres)):\n",
    "            if(genre_df['genres'][row][genre] == list_of_genres[types]):\n",
    "                try:\n",
    "                    final_genre_df.iloc[row,types] = ctr\n",
    "                    ctr -= 1\n",
    "                except:\n",
    "                    print(row, types)"
   ]
  },
  {
   "cell_type": "code",
   "execution_count": 31,
   "id": "08b6ad44-bf33-436a-857e-d4be324005f6",
   "metadata": {},
   "outputs": [
    {
     "data": {
      "text/html": [
       "<div>\n",
       "<style scoped>\n",
       "    .dataframe tbody tr th:only-of-type {\n",
       "        vertical-align: middle;\n",
       "    }\n",
       "\n",
       "    .dataframe tbody tr th {\n",
       "        vertical-align: top;\n",
       "    }\n",
       "\n",
       "    .dataframe thead th {\n",
       "        text-align: right;\n",
       "    }\n",
       "</style>\n",
       "<table border=\"1\" class=\"dataframe\">\n",
       "  <thead>\n",
       "    <tr style=\"text-align: right;\">\n",
       "      <th></th>\n",
       "      <th>documentation</th>\n",
       "      <th>drama</th>\n",
       "      <th>crime</th>\n",
       "      <th>action</th>\n",
       "      <th>thriller</th>\n",
       "      <th>european</th>\n",
       "      <th>fantasy</th>\n",
       "      <th>comedy</th>\n",
       "      <th>war</th>\n",
       "      <th>romance</th>\n",
       "      <th>western</th>\n",
       "      <th>history</th>\n",
       "      <th>music</th>\n",
       "      <th>family</th>\n",
       "      <th>horror</th>\n",
       "      <th>scifi</th>\n",
       "      <th>animation</th>\n",
       "      <th>reality</th>\n",
       "      <th>sport</th>\n",
       "    </tr>\n",
       "  </thead>\n",
       "  <tbody>\n",
       "    <tr>\n",
       "      <th>0</th>\n",
       "      <td>1</td>\n",
       "      <td>0</td>\n",
       "      <td>0</td>\n",
       "      <td>0</td>\n",
       "      <td>0</td>\n",
       "      <td>0</td>\n",
       "      <td>0</td>\n",
       "      <td>0</td>\n",
       "      <td>0</td>\n",
       "      <td>0</td>\n",
       "      <td>0</td>\n",
       "      <td>0</td>\n",
       "      <td>0</td>\n",
       "      <td>0</td>\n",
       "      <td>0</td>\n",
       "      <td>0</td>\n",
       "      <td>0</td>\n",
       "      <td>0</td>\n",
       "      <td>0</td>\n",
       "    </tr>\n",
       "    <tr>\n",
       "      <th>1</th>\n",
       "      <td>0</td>\n",
       "      <td>2</td>\n",
       "      <td>1</td>\n",
       "      <td>0</td>\n",
       "      <td>0</td>\n",
       "      <td>0</td>\n",
       "      <td>0</td>\n",
       "      <td>0</td>\n",
       "      <td>0</td>\n",
       "      <td>0</td>\n",
       "      <td>0</td>\n",
       "      <td>0</td>\n",
       "      <td>0</td>\n",
       "      <td>0</td>\n",
       "      <td>0</td>\n",
       "      <td>0</td>\n",
       "      <td>0</td>\n",
       "      <td>0</td>\n",
       "      <td>0</td>\n",
       "    </tr>\n",
       "    <tr>\n",
       "      <th>2</th>\n",
       "      <td>0</td>\n",
       "      <td>4</td>\n",
       "      <td>0</td>\n",
       "      <td>3</td>\n",
       "      <td>2</td>\n",
       "      <td>1</td>\n",
       "      <td>0</td>\n",
       "      <td>0</td>\n",
       "      <td>0</td>\n",
       "      <td>0</td>\n",
       "      <td>0</td>\n",
       "      <td>0</td>\n",
       "      <td>0</td>\n",
       "      <td>0</td>\n",
       "      <td>0</td>\n",
       "      <td>0</td>\n",
       "      <td>0</td>\n",
       "      <td>0</td>\n",
       "      <td>0</td>\n",
       "    </tr>\n",
       "    <tr>\n",
       "      <th>3</th>\n",
       "      <td>0</td>\n",
       "      <td>0</td>\n",
       "      <td>0</td>\n",
       "      <td>2</td>\n",
       "      <td>0</td>\n",
       "      <td>0</td>\n",
       "      <td>3</td>\n",
       "      <td>1</td>\n",
       "      <td>0</td>\n",
       "      <td>0</td>\n",
       "      <td>0</td>\n",
       "      <td>0</td>\n",
       "      <td>0</td>\n",
       "      <td>0</td>\n",
       "      <td>0</td>\n",
       "      <td>0</td>\n",
       "      <td>0</td>\n",
       "      <td>0</td>\n",
       "      <td>0</td>\n",
       "    </tr>\n",
       "    <tr>\n",
       "      <th>4</th>\n",
       "      <td>0</td>\n",
       "      <td>0</td>\n",
       "      <td>0</td>\n",
       "      <td>1</td>\n",
       "      <td>0</td>\n",
       "      <td>0</td>\n",
       "      <td>0</td>\n",
       "      <td>0</td>\n",
       "      <td>2</td>\n",
       "      <td>0</td>\n",
       "      <td>0</td>\n",
       "      <td>0</td>\n",
       "      <td>0</td>\n",
       "      <td>0</td>\n",
       "      <td>0</td>\n",
       "      <td>0</td>\n",
       "      <td>0</td>\n",
       "      <td>0</td>\n",
       "      <td>0</td>\n",
       "    </tr>\n",
       "    <tr>\n",
       "      <th>...</th>\n",
       "      <td>...</td>\n",
       "      <td>...</td>\n",
       "      <td>...</td>\n",
       "      <td>...</td>\n",
       "      <td>...</td>\n",
       "      <td>...</td>\n",
       "      <td>...</td>\n",
       "      <td>...</td>\n",
       "      <td>...</td>\n",
       "      <td>...</td>\n",
       "      <td>...</td>\n",
       "      <td>...</td>\n",
       "      <td>...</td>\n",
       "      <td>...</td>\n",
       "      <td>...</td>\n",
       "      <td>...</td>\n",
       "      <td>...</td>\n",
       "      <td>...</td>\n",
       "      <td>...</td>\n",
       "    </tr>\n",
       "    <tr>\n",
       "      <th>5786</th>\n",
       "      <td>0</td>\n",
       "      <td>1</td>\n",
       "      <td>0</td>\n",
       "      <td>0</td>\n",
       "      <td>0</td>\n",
       "      <td>0</td>\n",
       "      <td>0</td>\n",
       "      <td>2</td>\n",
       "      <td>0</td>\n",
       "      <td>3</td>\n",
       "      <td>0</td>\n",
       "      <td>0</td>\n",
       "      <td>0</td>\n",
       "      <td>0</td>\n",
       "      <td>0</td>\n",
       "      <td>0</td>\n",
       "      <td>0</td>\n",
       "      <td>0</td>\n",
       "      <td>0</td>\n",
       "    </tr>\n",
       "    <tr>\n",
       "      <th>5787</th>\n",
       "      <td>0</td>\n",
       "      <td>1</td>\n",
       "      <td>0</td>\n",
       "      <td>0</td>\n",
       "      <td>0</td>\n",
       "      <td>0</td>\n",
       "      <td>0</td>\n",
       "      <td>0</td>\n",
       "      <td>0</td>\n",
       "      <td>2</td>\n",
       "      <td>0</td>\n",
       "      <td>0</td>\n",
       "      <td>0</td>\n",
       "      <td>0</td>\n",
       "      <td>0</td>\n",
       "      <td>0</td>\n",
       "      <td>0</td>\n",
       "      <td>0</td>\n",
       "      <td>0</td>\n",
       "    </tr>\n",
       "    <tr>\n",
       "      <th>5788</th>\n",
       "      <td>0</td>\n",
       "      <td>1</td>\n",
       "      <td>0</td>\n",
       "      <td>0</td>\n",
       "      <td>0</td>\n",
       "      <td>0</td>\n",
       "      <td>0</td>\n",
       "      <td>0</td>\n",
       "      <td>0</td>\n",
       "      <td>0</td>\n",
       "      <td>0</td>\n",
       "      <td>0</td>\n",
       "      <td>0</td>\n",
       "      <td>0</td>\n",
       "      <td>0</td>\n",
       "      <td>0</td>\n",
       "      <td>0</td>\n",
       "      <td>0</td>\n",
       "      <td>0</td>\n",
       "    </tr>\n",
       "    <tr>\n",
       "      <th>5789</th>\n",
       "      <td>0</td>\n",
       "      <td>0</td>\n",
       "      <td>0</td>\n",
       "      <td>0</td>\n",
       "      <td>0</td>\n",
       "      <td>0</td>\n",
       "      <td>0</td>\n",
       "      <td>1</td>\n",
       "      <td>0</td>\n",
       "      <td>0</td>\n",
       "      <td>0</td>\n",
       "      <td>0</td>\n",
       "      <td>0</td>\n",
       "      <td>0</td>\n",
       "      <td>0</td>\n",
       "      <td>0</td>\n",
       "      <td>0</td>\n",
       "      <td>0</td>\n",
       "      <td>0</td>\n",
       "    </tr>\n",
       "    <tr>\n",
       "      <th>5790</th>\n",
       "      <td>0</td>\n",
       "      <td>0</td>\n",
       "      <td>0</td>\n",
       "      <td>0</td>\n",
       "      <td>0</td>\n",
       "      <td>0</td>\n",
       "      <td>0</td>\n",
       "      <td>1</td>\n",
       "      <td>0</td>\n",
       "      <td>0</td>\n",
       "      <td>0</td>\n",
       "      <td>0</td>\n",
       "      <td>0</td>\n",
       "      <td>3</td>\n",
       "      <td>0</td>\n",
       "      <td>0</td>\n",
       "      <td>2</td>\n",
       "      <td>0</td>\n",
       "      <td>0</td>\n",
       "    </tr>\n",
       "  </tbody>\n",
       "</table>\n",
       "<p>5791 rows × 19 columns</p>\n",
       "</div>"
      ],
      "text/plain": [
       "      documentation  drama  crime  action  thriller  european  fantasy  \\\n",
       "0                 1      0      0       0         0         0        0   \n",
       "1                 0      2      1       0         0         0        0   \n",
       "2                 0      4      0       3         2         1        0   \n",
       "3                 0      0      0       2         0         0        3   \n",
       "4                 0      0      0       1         0         0        0   \n",
       "...             ...    ...    ...     ...       ...       ...      ...   \n",
       "5786              0      1      0       0         0         0        0   \n",
       "5787              0      1      0       0         0         0        0   \n",
       "5788              0      1      0       0         0         0        0   \n",
       "5789              0      0      0       0         0         0        0   \n",
       "5790              0      0      0       0         0         0        0   \n",
       "\n",
       "      comedy  war  romance  western  history  music  family  horror  scifi  \\\n",
       "0          0    0        0        0        0      0       0       0      0   \n",
       "1          0    0        0        0        0      0       0       0      0   \n",
       "2          0    0        0        0        0      0       0       0      0   \n",
       "3          1    0        0        0        0      0       0       0      0   \n",
       "4          0    2        0        0        0      0       0       0      0   \n",
       "...      ...  ...      ...      ...      ...    ...     ...     ...    ...   \n",
       "5786       2    0        3        0        0      0       0       0      0   \n",
       "5787       0    0        2        0        0      0       0       0      0   \n",
       "5788       0    0        0        0        0      0       0       0      0   \n",
       "5789       1    0        0        0        0      0       0       0      0   \n",
       "5790       1    0        0        0        0      0       3       0      0   \n",
       "\n",
       "      animation  reality  sport  \n",
       "0             0        0      0  \n",
       "1             0        0      0  \n",
       "2             0        0      0  \n",
       "3             0        0      0  \n",
       "4             0        0      0  \n",
       "...         ...      ...    ...  \n",
       "5786          0        0      0  \n",
       "5787          0        0      0  \n",
       "5788          0        0      0  \n",
       "5789          0        0      0  \n",
       "5790          2        0      0  \n",
       "\n",
       "[5791 rows x 19 columns]"
      ]
     },
     "execution_count": 31,
     "metadata": {},
     "output_type": "execute_result"
    }
   ],
   "source": [
    "final_genre_df"
   ]
  },
  {
   "cell_type": "markdown",
   "id": "992b45a4-d28a-4574-843f-9f967a74da99",
   "metadata": {},
   "source": [
    "### c. Retriveing Association Rules"
   ]
  },
  {
   "cell_type": "markdown",
   "id": "5cd4b99f-db10-4b9b-803b-bffa2ccf489d",
   "metadata": {},
   "source": [
    "Instantiate a `RuleMiner` object with support threshold (`support_t`) equal to `85` and confidence threshold (`confidence_t`) equal to `0.75`. \n",
    "\n",
    "Assign the object to variable `gm_01`."
   ]
  },
  {
   "cell_type": "code",
   "execution_count": 32,
   "id": "9ad760cc-67d3-4bee-bdd2-0e7536f5d96d",
   "metadata": {},
   "outputs": [],
   "source": [
    "gm_01 = RuleMiner(85,0.75)"
   ]
  },
  {
   "cell_type": "code",
   "execution_count": 33,
   "id": "a8df8292-0ec7-4fcd-b8d7-5a90acd6d761",
   "metadata": {},
   "outputs": [
    {
     "data": {
      "text/plain": [
       "[[['action', 'family', 'fantasy'], ['comedy']],\n",
       " [['action', 'family', 'fantasy'], ['animation']],\n",
       " [['animation', 'fantasy', 'scifi'], ['action']],\n",
       " [['action', 'animation', 'family'], ['comedy']],\n",
       " [['action', 'comedy', 'family'], ['animation']],\n",
       " [['action', 'comedy', 'scifi'], ['animation']],\n",
       " [['animation', 'comedy', 'fantasy'], ['family']],\n",
       " [['animation', 'family', 'fantasy'], ['comedy']],\n",
       " [['comedy', 'family', 'fantasy'], ['animation']],\n",
       " [['animation', 'family', 'scifi'], ['comedy']],\n",
       " [['comedy', 'family', 'scifi'], ['animation']]]"
      ]
     },
     "execution_count": 33,
     "metadata": {},
     "output_type": "execute_result"
    }
   ],
   "source": [
    "gm_01.get_association_rules(final_genre_df)"
   ]
  },
  {
   "cell_type": "markdown",
   "id": "4951d971-a766-4cfe-b1d4-7ef0d2a28f6d",
   "metadata": {},
   "source": [
    "# Statistical Inference"
   ]
  },
  {
   "cell_type": "code",
   "execution_count": 34,
   "id": "f28bba39-b663-4d74-a1db-a0852db6159b",
   "metadata": {},
   "outputs": [],
   "source": [
    "final_dup = final_genre_df.copy()\n",
    "passed_genre = gm_01.get_frequent_itemsets(final_dup)"
   ]
  },
  {
   "cell_type": "code",
   "execution_count": 35,
   "id": "b1e911af-46c6-4225-8470-20418dfd8af8",
   "metadata": {},
   "outputs": [],
   "source": [
    "popularity_of_frequent = []\n",
    "popularity_of_not_frequent = []"
   ]
  },
  {
   "cell_type": "code",
   "execution_count": 36,
   "id": "9e2d7e1e-f35f-441e-9e34-22e76ad608a0",
   "metadata": {},
   "outputs": [],
   "source": [
    "#For each observation in genres\n",
    "#For each frequent itemset\n",
    "#check if the genre of the observation falls under any of the frequent itemset\n",
    "#If it is append its popularity rating to a list and go to next observation."
   ]
  },
  {
   "cell_type": "code",
   "execution_count": 37,
   "id": "98d286b9-bde5-45ef-97b1-6b4be74d690a",
   "metadata": {},
   "outputs": [
    {
     "data": {
      "text/plain": [
       "[['action', 'crime', 'drama', 'thriller'],\n",
       " ['action', 'drama', 'scifi', 'thriller'],\n",
       " ['action', 'drama', 'fantasy', 'scifi'],\n",
       " ['action', 'comedy', 'family', 'fantasy'],\n",
       " ['action', 'animation', 'comedy', 'fantasy'],\n",
       " ['action', 'animation', 'family', 'fantasy'],\n",
       " ['action', 'animation', 'fantasy', 'scifi'],\n",
       " ['action', 'animation', 'comedy', 'family'],\n",
       " ['action', 'animation', 'comedy', 'scifi'],\n",
       " ['animation', 'comedy', 'family', 'fantasy'],\n",
       " ['animation', 'comedy', 'fantasy', 'scifi'],\n",
       " ['animation', 'comedy', 'family', 'scifi']]"
      ]
     },
     "execution_count": 37,
     "metadata": {},
     "output_type": "execute_result"
    }
   ],
   "source": [
    "passed_genre"
   ]
  },
  {
   "cell_type": "code",
   "execution_count": 38,
   "id": "4dd92c1e-b088-4eef-b87a-e6fe920a2670",
   "metadata": {},
   "outputs": [
    {
     "data": {
      "text/plain": [
       "5137"
      ]
     },
     "execution_count": 38,
     "metadata": {},
     "output_type": "execute_result"
    }
   ],
   "source": [
    "for i in range(len(genre_df.genres)):\n",
    "    flag = 0\n",
    "    for j in passed_genre:\n",
    "        if(set(j).issubset(genre_df.genres[i])):\n",
    "            popularity_of_frequent.append(genre_df.tmdb_popularity[i])\n",
    "            flag = 1\n",
    "            break  # No need to check other sets\n",
    "    if flag == 0 and genre_df.tmdb_popularity[i] > 0 :\n",
    "            popularity_of_not_frequent.append(genre_df.tmdb_popularity[i])\n",
    "\n",
    "len(popularity_of_not_frequent)"
   ]
  },
  {
   "cell_type": "code",
   "execution_count": 39,
   "id": "fc245820-dd03-4d20-bb1e-2b980a63ad07",
   "metadata": {},
   "outputs": [],
   "source": [
    "random.seed(14)\n",
    "popularity_of_frequent_sample = random.sample(popularity_of_frequent, 100)\n",
    "popularity_of_not_frequent_sample = random.sample(popularity_of_not_frequent, 100) "
   ]
  },
  {
   "cell_type": "markdown",
   "id": "35ae6e80-27ef-41b5-9cb6-9759b909df86",
   "metadata": {},
   "source": [
    "### Hypothesis Testing"
   ]
  },
  {
   "cell_type": "markdown",
   "id": "fbafa44c-b84b-4f1d-8146-d5754c1b2ad4",
   "metadata": {},
   "source": [
    "$H_0$ (null hypothesis): \t**μ = 0.**\n",
    "\n",
    "$H_A$ (alternative hypothesis): \t**μ ≠ 0.**\n",
    "\n",
    "\n",
    "$H_0$: There is **no difference** between the popularity score of content with genres that are part of a frequent itemset and  content with genres that are not part of a frequent itemset.\n",
    "\n",
    "$H_A$ : There is a **difference** between the popularity score of content with genres that are part of a frequent itemset and  content with genres that are not part of a frequent itemset."
   ]
  },
  {
   "cell_type": "code",
   "execution_count": 40,
   "id": "56301aae-3281-4368-8467-85fbc7b85f82",
   "metadata": {},
   "outputs": [
    {
     "data": {
      "text/plain": [
       "Ttest_indResult(statistic=4.315393762762202, pvalue=3.236111984163655e-05)"
      ]
     },
     "execution_count": 40,
     "metadata": {},
     "output_type": "execute_result"
    }
   ],
   "source": [
    "ttest_ind(popularity_of_frequent_sample, popularity_of_not_frequent_sample, equal_var = False)"
   ]
  },
  {
   "cell_type": "markdown",
   "id": "727abec1-34e1-4119-bc1c-267ebae5e640",
   "metadata": {},
   "source": [
    "### Conclusion"
   ]
  },
  {
   "cell_type": "markdown",
   "id": "7a31fee8-21dd-4b09-9c05-9b1794742a0a",
   "metadata": {},
   "source": [
    "After performing a t-test the following conclusions can be made:\n",
    "- Using a significance level of 0.05, the p-value 3.236e-05 is **statistically significant**.\n",
    "- Because the p-value is less than the significance level (0.05), **reject the null hypothesis**.\n",
    "- Thus, the data provides strong evidence that **there is a difference** etween the popularity score of content with genres that are part of a frequent itemset and content with genres that are not part of a frequent itemset at a **significance level of 5%**."
   ]
  },
  {
   "cell_type": "markdown",
   "id": "e78fd31f-e5ab-49d4-87a5-9b919215916b",
   "metadata": {},
   "source": [
    "### Insights"
   ]
  },
  {
   "cell_type": "markdown",
   "id": "30cded90-1cb3-476d-aba0-63dcb119dd8e",
   "metadata": {},
   "source": [
    "One of the main reasons why we chose to work on this dataset is our mutual love for movies. As we were planning out our project, we asked each other for our interests, and that ultimately lead to movies and TV. as we traversed this data set, we became more and more curious about how things connected with one another and had genuine questions that we wanted answered. This all led to the creation of our research question. \n",
    "\n",
    "For data modelling, we modelled our data by using One Hot Encoding. This data modelling technique was appropriate as it helped properly group the genres of each movie , while also taking into account the main genre of each movie. Furthermore through one hot encoding we were able to determine item sets , and see the support for each itemset, which allowed us to analyze the data better.\n",
    "\n",
    "One of the important insights that we got from all of this is that the right mix of genres can form popular movies. as we formed our statistical analysis from the results of our data modelling, we were happy to see that there was a difference between genres that  are usually put together. If given a larger dataset, our data modelling methods would be able to form insights that both film makers and film viewers can use.\n",
    "\n",
    "Our results show that the Genres that usually go together, usually has action as their main genre with the accompanying genres varying from drama, crime, comedy, thrillers, fantasy, animation, and family. Those genres who didn't have action as their main genre on the other hand has animation as their main genre. As we get results about the most frequent itemsets in our data, we decided to see if the movies in these genres are also popular, which could explain why they are being produced very often. Using a T - Test we have found out that there is a significant difference in popularity for films which genres are included in the frequent items sets compared to those that aren't, therefore rejecting the null Hypothesis."
   ]
  }
 ],
 "metadata": {
  "kernelspec": {
   "display_name": "Python 3 (ipykernel)",
   "language": "python",
   "name": "python3"
  },
  "language_info": {
   "codemirror_mode": {
    "name": "ipython",
    "version": 3
   },
   "file_extension": ".py",
   "mimetype": "text/x-python",
   "name": "python",
   "nbconvert_exporter": "python",
   "pygments_lexer": "ipython3",
   "version": "3.9.12"
  },
  "vscode": {
   "interpreter": {
    "hash": "24c5cde46e7d71803faa4a06690a525d265b8af70b97d5835f490456f4333bed"
   }
  }
 },
 "nbformat": 4,
 "nbformat_minor": 5
}
